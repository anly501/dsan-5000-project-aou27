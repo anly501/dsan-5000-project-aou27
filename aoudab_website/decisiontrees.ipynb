{
  "cells": [
    {
      "cell_type": "raw",
      "id": "2c4ad2b4",
      "metadata": {},
      "source": [
        "---\n",
        "title: Decision Trees\n",
        "format:\n",
        "  html:\n",
        "    code-fold: true\n",
        "---"
      ]
    },
    {
      "cell_type": "markdown",
      "metadata": {},
      "source": [
        "# Intro Only then direct to other pages"
      ]
    }
  ],
  "metadata": {
    "kernelspec": {
      "display_name": "Python 3",
      "language": "python",
      "name": "python3"
    }
  },
  "nbformat": 4,
  "nbformat_minor": 5
}
