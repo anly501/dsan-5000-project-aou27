{
 "cells": [
  {
   "cell_type": "code",
   "execution_count": 1,
   "metadata": {},
   "outputs": [],
   "source": [
    "import requests\n",
    "import json\n",
    "import re\n",
    "#import pycountry\n",
    "import pandas as pd\n",
    "import numpy as np\n",
    "from sklearn.feature_extraction.text import CountVectorizer\n",
    "from pathlib import Path"
   ]
  },
  {
   "cell_type": "markdown",
   "metadata": {},
   "source": [
    "## Apple"
   ]
  },
  {
   "cell_type": "code",
   "execution_count": 2,
   "metadata": {},
   "outputs": [
    {
     "name": "stdout",
     "output_type": "stream",
     "text": [
      "<class 'pandas.core.frame.DataFrame'>\n",
      "       Chart Position                     Artist and Title  Duration (Days)  \\\n",
      "0                   1        Doja Cat - Paint The Town Red               68   \n",
      "1                   2                  Tate McRae - greedy               27   \n",
      "2                   3                        Drake - IDGAF                6   \n",
      "3                   4         Drake - First Person Shooter                6   \n",
      "4                   5               Drake - Virginia Beach                6   \n",
      "...               ...                                  ...              ...   \n",
      "11747               7          Taylor Swift - Cruel Summer              245   \n",
      "11770              30  Billie Eilish - What Was I Made For               90   \n",
      "11773              33             Taylor Swift - Anti-Hero              356   \n",
      "11802              62                 Taylor Swift - Lover              412   \n",
      "11810              70                      SZA - Kill Bill              307   \n",
      "\n",
      "       Peak (x?)  Points Country  Country Rank  \n",
      "0         1   45   16920      US          29.0  \n",
      "1         2    9   14619      US          44.0  \n",
      "2         3    1   13364      US           1.0  \n",
      "3         3    2   12624      US           2.0  \n",
      "4         2    2   12359      US           3.0  \n",
      "...     ...  ...     ...     ...           ...  \n",
      "11747     1   13   10731      VN          28.0  \n",
      "11770     2   10    5425      VN         166.0  \n",
      "11773     1   50    5108      VN         146.0  \n",
      "11802     3   13    2739      VN         116.0  \n",
      "11810     1    3    2487      VN         104.0  \n",
      "\n",
      "[836 rows x 8 columns]\n",
      "(836, 8)\n"
     ]
    }
   ],
   "source": [
    "appledf = pd.read_csv(\"../websitedata/appletopsongsinternational2023.csv\")\n",
    "#print(appledf.shape)\n",
    "print(type(appledf))\n",
    "\n",
    "appledf.dropna\n",
    "\n",
    "appledf = pd.melt(appledf, id_vars=[\"Pos\", \"P+\", \"Artist and Title\", \"Days\", \"Pk\", \"(x?)\", \"Pts\", \"Pts+\", \"TPts\"], \n",
    "                   var_name=\"country\", value_name=\"country_rank\").dropna()\n",
    "\n",
    "#print(appledf.isnull().sum())\n",
    "#print(appledf.isna().sum())\n",
    "\n",
    "appledf = appledf.drop(columns=[\"P+\", \"Pts+\", \"TPts\"])\n",
    "appledf = appledf.rename(columns={\"Pos\": \"Chart Position\",\"Days\": \"Duration (Days)\", \"Pk\": \"Peak\", \n",
    "                                  \"Pts\": \"Points\", \"country\": \"Country\", \"country_rank\": \"Country Rank\"})\n",
    "\n",
    "#print(appledf[\"(x?)\"].value_counts())\n",
    "\n",
    "appledf[\"(x?)\"] = appledf[\"(x?)\"].str.replace(r'[()]|x', \"\", regex = True)\n",
    "#appledf = appledf[appledf[\"Country\"].str.contains(\"^US\", na=False)]\n",
    "\n",
    "\n",
    "print(appledf)\n",
    "#appledf.to_csv(\"../websitedata/apple_py.csv\")\n",
    "print(appledf.shape)\n"
   ]
  },
  {
   "cell_type": "markdown",
   "metadata": {},
   "source": [
    "## Spotify"
   ]
  },
  {
   "cell_type": "code",
   "execution_count": 3,
   "metadata": {},
   "outputs": [
    {
     "name": "stdout",
     "output_type": "stream",
     "text": [
      "<bound method NDFrame.head of      Unnamed: 0     Artist Name  Valence  Danceability  Energy  Loudness  \\\n",
      "0             1        Doja Cat    0.726         0.864   0.556    -7.683   \n",
      "1             2        Doja Cat    0.313         0.831   0.362    -6.085   \n",
      "2             3        Doja Cat    0.192         0.804   0.656    -5.723   \n",
      "3             4        Doja Cat    0.643         0.764   0.720    -6.494   \n",
      "4             5        Doja Cat    0.794         0.854   0.808    -5.958   \n",
      "..          ...             ...      ...           ...     ...       ...   \n",
      "388         389  Olivia Rodrigo    0.269         0.638   0.259   -10.706   \n",
      "389         390  Olivia Rodrigo    0.338         0.395   0.443    -9.720   \n",
      "390         391  Olivia Rodrigo    0.699         0.695   0.575    -6.334   \n",
      "391         392  Olivia Rodrigo    0.218         0.369   0.272   -10.497   \n",
      "392         393  Olivia Rodrigo    0.172         0.443   0.298   -12.181   \n",
      "\n",
      "     Speechiness  Acousticness  Liveness    Tempo            Track Name  \\\n",
      "0         0.1940      0.255000    0.1120   99.974    Paint The Town Red   \n",
      "1         0.2290      0.000156    0.1680  139.941                Demons   \n",
      "2         0.0896      0.020700    0.1070  150.014            Wet Vagina   \n",
      "3         0.2730      0.196000    0.1110   91.337  Fuck The Girls (FTG)   \n",
      "4         0.1390      0.019400    0.1080  110.203               Ouchies   \n",
      "..           ...           ...       ...      ...                   ...   \n",
      "388       0.0898      0.753000    0.2190   88.485        enough for you   \n",
      "389       0.1330      0.765000    0.0839  168.924               happier   \n",
      "390       0.1160      0.198000    0.0614  163.929    jealousy, jealousy   \n",
      "391       0.0364      0.866000    0.1470  172.929        favorite crime   \n",
      "392       0.0644      0.388000    0.1030   77.253            hope ur ok   \n",
      "\n",
      "    Album Name  Album Release Year  \n",
      "0      Scarlet                2023  \n",
      "1      Scarlet                2023  \n",
      "2      Scarlet                2023  \n",
      "3      Scarlet                2023  \n",
      "4      Scarlet                2023  \n",
      "..         ...                 ...  \n",
      "388       SOUR                2021  \n",
      "389       SOUR                2021  \n",
      "390       SOUR                2021  \n",
      "391       SOUR                2021  \n",
      "392       SOUR                2021  \n",
      "\n",
      "[393 rows x 13 columns]>\n",
      "(393, 13)\n"
     ]
    }
   ],
   "source": [
    "spotifydf = pd.read_csv(\"../websitedata/Spotify.csv\")\n",
    "#print(type(spotifydf))\n",
    "\n",
    "\n",
    "#spotifydf.dropna\n",
    "#print(spotifydf.isnull().sum())\n",
    "#print(spotifydf.isna().sum())\n",
    "\n",
    "spotifydf = spotifydf.rename(columns={\"artist_name\": \"Artist Name\",\"track_name\": \"Track Name\", \n",
    "                                      \"danceability\": \"Danceability\", \"energy\": \"Energy\", \"loudness\": \"Loudness\",\n",
    "                                      \"speechiness\": \"Speechiness\", \"acousticness\": \"Acousticness\",\n",
    "                                      \"liveness\": \"Liveness\", \"tempo\": \"Tempo\", \"album_name\": \"Album Name\", \n",
    "                                      \"album_release_year\": \"Album Release Year\"})\n",
    "\n",
    "print(spotifydf.head)\n",
    "spotifydf.to_csv(\"../websitedata/spotify_py.csv\")\n",
    "print(spotifydf.shape)\n"
   ]
  },
  {
   "cell_type": "markdown",
   "metadata": {},
   "source": [
    "## Netflix"
   ]
  },
  {
   "cell_type": "code",
   "execution_count": 4,
   "metadata": {},
   "outputs": [
    {
     "name": "stdout",
     "output_type": "stream",
     "text": [
      "                                         Title  Points\n",
      "2                              Stranger Things  63,800\n",
      "3                                     Manifest  53,337\n",
      "4                               Inventing Anna  34,393\n",
      "5   Dahmer - Monster: The Jeffrey Dahmer Story  34,086\n",
      "6                                   Bridgerton  30,229\n",
      "7                                    Wednesday  30,102\n",
      "8                      Café con aroma de mujer  28,765\n",
      "9                          Pasión de gavilanes  27,591\n",
      "10                          All of Us Are Dead  26,955\n",
      "11                                   The Crown  25,874\n",
      "12                  Extraordinary Attorney Woo  24,352\n",
      "13                Pablo Escobar, The Drug Lord  24,273\n",
      "14                                       Ozark  23,757\n",
      "15                                 The Sandman  23,026\n",
      "16                           Business Proposal  21,123\n",
      "17                         Yo soy Betty la fea  20,912\n",
      "18                                   Cobra Kai  20,786\n",
      "19                          The Lincoln Lawyer  19,521\n",
      "20                               Love Is Blind  18,889\n",
      "21                                       Elite  18,659\n",
      "22                              Emily in Paris  18,288\n",
      "23                                        1899  17,988\n",
      "24                            Alchemy of Souls  17,326\n",
      "25                        The Umbrella Academy  17,073\n",
      "26                                 The Watcher  15,699\n",
      "(25, 2)\n"
     ]
    }
   ],
   "source": [
    "netflixdf = pd.read_csv(\"../websitedata/netflixWorld2022.csv\")\n",
    "#print(netflixdf.shape)\n",
    "#print(type(netflixdf))\n",
    "\n",
    "netflixdf = netflixdf.rename(columns={\"Top TV shows on Netflix worldwide 2022\": \"Title\", \"Unnamed: 1\": \"Points\"})\n",
    "\n",
    "\n",
    "netflixdf.drop([0,1], inplace=True)\n",
    "#print(netflixdf.isnull().sum())\n",
    "#print(netflixdf.isna().sum())\n",
    "\n",
    "\n",
    "print(netflixdf)\n",
    "#netflixdf.to_csv(\"../websitedata/netflix_py.csv\")\n",
    "print(netflixdf.shape)"
   ]
  },
  {
   "cell_type": "markdown",
   "metadata": {},
   "source": [
    "# Self- Reported Life Satisfaction"
   ]
  },
  {
   "cell_type": "code",
   "execution_count": 5,
   "metadata": {},
   "outputs": [
    {
     "name": "stdout",
     "output_type": "stream",
     "text": [
      "(137, 4)\n",
      "<bound method NDFrame.head of             Entity Code   Score        GDP\n",
      "1      Afghanistan  AFG  1.8590      363.7\n",
      "597        Albania  ALB  5.2773   6,802.80\n",
      "857        Algeria  DZA  5.3291   4,273.90\n",
      "2133     Argentina  ARG  6.0237  13,686.00\n",
      "2393       Armenia  ARM  5.3417   7,014.20\n",
      "...            ...  ...     ...        ...\n",
      "56105   Uzbekistan  UZB  6.0143   2,255.20\n",
      "56816    Venezuela  VEN  5.2106  15,975.70\n",
      "57076      Vietnam  VNM  5.7633   4,163.50\n",
      "58181       Zambia  ZMB  3.9822   1,487.90\n",
      "58442     Zimbabwe  ZWE  3.2035   1,267.00\n",
      "\n",
      "[137 rows x 4 columns]>\n"
     ]
    }
   ],
   "source": [
    "happygdp = pd.read_csv(\"../websitedata/gdp-vs-happiness.csv\")\n",
    "\n",
    "#print(happygdp.dtypes)\n",
    "happygdp = happygdp[happygdp[\"Year\"] == 2022] \n",
    "happygdp = happygdp.drop([\"GDP per capita, PPP (constant 2017 international $)\", \n",
    "                          \"Population (historical estimates)\",\n",
    "                          \"Continent\", \"Year\"], axis=1)\n",
    "\n",
    "happygdp = happygdp.rename(columns={\"Cantril ladder score\": \"Score\", \"Unnamed: 7\": \"GDP\"})\n",
    "\n",
    "#print(happygdp.isna().sum())\n",
    "print(happygdp.shape)\n",
    "#happygdp.to_csv(\"../websitedata/happy_py.csv\")\n",
    "print(happygdp.head)"
   ]
  },
  {
   "cell_type": "markdown",
   "metadata": {},
   "source": [
    "# Exploring Data Tab"
   ]
  },
  {
   "cell_type": "code",
   "execution_count": 6,
   "metadata": {},
   "outputs": [
    {
     "name": "stdout",
     "output_type": "stream",
     "text": [
      "       Chart Position  Duration (Days)        Peak        Points  Country Rank\n",
      "count      836.000000       836.000000  836.000000    836.000000    836.000000\n",
      "mean        42.502392       308.492823    1.671053   7506.009569     61.480861\n",
      "std         49.812835       427.604273    0.724705   5080.042094     52.836577\n",
      "min          1.000000         6.000000    1.000000   1056.000000      1.000000\n",
      "25%          5.000000        68.000000    1.000000   2739.000000     16.000000\n",
      "50%         30.000000       132.000000    2.000000   5425.000000     48.500000\n",
      "75%         62.000000       393.000000    2.000000  12359.000000     93.000000\n",
      "max        198.000000      1982.000000    3.000000  16920.000000    200.000000\n"
     ]
    }
   ],
   "source": [
    "#print(appledf.describe())\n",
    "\n",
    "newAppledf = appledf.drop([\"Artist and Title\", \"Country\"], axis=1)\n",
    "newAppledf = newAppledf.reset_index(drop=True)\n",
    "\n",
    "print(newAppledf.describe())"
   ]
  },
  {
   "cell_type": "code",
   "execution_count": 7,
   "metadata": {},
   "outputs": [
    {
     "name": "stdout",
     "output_type": "stream",
     "text": [
      "Chart Position     int64\n",
      "Duration (Days)    int64\n",
      "Peak               int64\n",
      "(x?)               int32\n",
      "Points             int64\n",
      "Country Rank       int32\n",
      "dtype: object\n",
      "       Chart Position  Duration (Days)        Peak        (x?)        Points  \\\n",
      "count      836.000000       836.000000  836.000000  836.000000    836.000000   \n",
      "mean        42.502392       308.492823    1.671053   32.011962   7506.009569   \n",
      "std         49.812835       427.604273    0.724705   47.504048   5080.042094   \n",
      "min          1.000000         6.000000    1.000000    1.000000   1056.000000   \n",
      "25%          5.000000        68.000000    1.000000    3.000000   2739.000000   \n",
      "50%         30.000000       132.000000    2.000000   14.000000   5425.000000   \n",
      "75%         62.000000       393.000000    2.000000   32.000000  12359.000000   \n",
      "max        198.000000      1982.000000    3.000000  177.000000  16920.000000   \n",
      "\n",
      "       Country Rank  \n",
      "count    836.000000  \n",
      "mean      61.480861  \n",
      "std       52.836577  \n",
      "min        1.000000  \n",
      "25%       16.000000  \n",
      "50%       48.500000  \n",
      "75%       93.000000  \n",
      "max      200.000000  \n",
      "                 Chart Position  Duration (Days)      Peak      (x?)  \\\n",
      "Chart Position         1.000000         0.537127 -0.006928 -0.043663   \n",
      "Duration (Days)        0.537127         1.000000 -0.234745  0.250226   \n",
      "Peak                  -0.006928        -0.234745  1.000000 -0.438067   \n",
      "(x?)                  -0.043663         0.250226 -0.438067  1.000000   \n",
      "Points                -0.788348        -0.543229  0.094603 -0.179048   \n",
      "Country Rank           0.529540         0.329221 -0.048784  0.019253   \n",
      "\n",
      "                   Points  Country Rank  \n",
      "Chart Position  -0.788348      0.529540  \n",
      "Duration (Days) -0.543229      0.329221  \n",
      "Peak             0.094603     -0.048784  \n",
      "(x?)            -0.179048      0.019253  \n",
      "Points           1.000000     -0.518561  \n",
      "Country Rank    -0.518561      1.000000  \n"
     ]
    }
   ],
   "source": [
    "newAppledf[\"(x?)\"] = newAppledf[\"(x?)\"].astype(int)\n",
    "newAppledf[\"Country Rank\"] = newAppledf[\"Country Rank\"].astype(int)\n",
    "print(newAppledf.dtypes)\n",
    "#newAppledf.to_csv(\"../websitedata/newApple_py.csv\")\n",
    "\n",
    "# Summary\n",
    "print(newAppledf.describe())\n",
    "\n",
    "# Correlation\n",
    "print(newAppledf.corr())"
   ]
  },
  {
   "cell_type": "code",
   "execution_count": 8,
   "metadata": {},
   "outputs": [
    {
     "name": "stdout",
     "output_type": "stream",
     "text": [
      "Unnamed: 0     int64\n",
      "Title         object\n",
      "Points        object\n",
      "dtype: object\n",
      "       Unnamed: 0\n",
      "count   25.000000\n",
      "mean    14.000000\n",
      "std      7.359801\n",
      "min      2.000000\n",
      "25%      8.000000\n",
      "50%     14.000000\n",
      "75%     20.000000\n",
      "max     26.000000\n"
     ]
    },
    {
     "data": {
      "image/png": "[encoded data removed]",
      "text/plain": [
       "<Figure size 1200x800 with 1 Axes>"
      ]
     },
     "metadata": {},
     "output_type": "display_data"
    }
   ],
   "source": [
    "import seaborn as sns\n",
    "import matplotlib.pyplot as plt\n",
    "\n",
    "netflixdf = pd.read_csv(\"../websitedata/netflix_py.csv\")\n",
    "print(netflixdf.dtypes)\n",
    "print(netflixdf.describe())\n",
    "\n",
    "net5 = netflixdf.head(5)\n",
    "#netshow = net5[\"Title\"]\n",
    "#netval = net5[\"Points\"]\n",
    "\n",
    "plt.figure(figsize=(12,8))\n",
    "sns.scatterplot(x=\"Title\",y=\"Points\",data=net5)\n",
    "plt.title(\"Points of Top 5 Netflix Shows\")\n",
    "plt.grid(True)\n",
    "plt.show()"
   ]
  },
  {
   "cell_type": "code",
   "execution_count": 9,
   "metadata": {},
   "outputs": [
    {
     "name": "stdout",
     "output_type": "stream",
     "text": [
      "          Valence  Danceability      Energy    Loudness  Speechiness  \\\n",
      "count  393.000000    393.000000  393.000000  393.000000   393.000000   \n",
      "mean     0.384960      0.662466    0.564512   -7.636957     0.186602   \n",
      "std      0.212783      0.150736    0.168313    2.881555     0.141246   \n",
      "min      0.036100      0.193000    0.021800  -31.160000     0.025400   \n",
      "25%      0.214000      0.547000    0.452000   -9.013000     0.066800   \n",
      "50%      0.355000      0.683000    0.555000   -7.355000     0.140000   \n",
      "75%      0.530000      0.780000    0.688000   -5.786000     0.274000   \n",
      "max      0.949000      0.934000    0.922000   -2.176000     0.883000   \n",
      "\n",
      "       Acousticness    Liveness       Tempo  Album Release Year  \n",
      "count    393.000000  393.000000  393.000000          393.000000  \n",
      "mean       0.243078    0.183383  121.734425         2017.885496  \n",
      "std        0.254899    0.134848   30.877509            4.164919  \n",
      "min        0.000052    0.028600   65.041000         2009.000000  \n",
      "25%        0.038600    0.105000   94.795000         2015.000000  \n",
      "50%        0.158000    0.126000  121.975000         2019.000000  \n",
      "75%        0.374000    0.206000  143.059000         2021.000000  \n",
      "max        0.988000    0.834000  201.800000         2023.000000  \n"
     ]
    }
   ],
   "source": [
    "spotifydf = pd.read_csv(\"../websitedata/spotify_py.csv\")\n",
    "#print(spotifydf.dtypes)\n",
    "\n",
    "newspotdf = spotifydf.drop(columns={\"Unnamed: 0.1\", \"Unnamed: 0\", \"Artist Name\", \"Track Name\", \"Album Name\"})\n",
    "\n",
    "# Summary\n",
    "print(newspotdf.describe())\n"
   ]
  },
  {
   "cell_type": "code",
   "execution_count": 10,
   "metadata": {},
   "outputs": [
    {
     "name": "stdout",
     "output_type": "stream",
     "text": [
      "                     Valence  Danceability    Energy  Loudness  Speechiness  \\\n",
      "Valence             1.000000      0.246692  0.398002  0.307874     0.040146   \n",
      "Danceability        0.246692      1.000000 -0.041714  0.128736    -0.079113   \n",
      "Energy              0.398002     -0.041714  1.000000  0.717260     0.179141   \n",
      "Loudness            0.307874      0.128736  0.717260  1.000000     0.059715   \n",
      "Speechiness         0.040146     -0.079113  0.179141  0.059715     1.000000   \n",
      "Acousticness       -0.034774     -0.349418 -0.385829 -0.376252    -0.040905   \n",
      "Liveness           -0.041324     -0.066942  0.130201  0.082523     0.161238   \n",
      "Tempo               0.050777     -0.063817  0.135110  0.086825     0.117097   \n",
      "Album Release Year  0.048786      0.154002 -0.074721  0.072098    -0.252975   \n",
      "\n",
      "                    Acousticness  Liveness     Tempo  Album Release Year  \n",
      "Valence                -0.034774 -0.041324  0.050777            0.048786  \n",
      "Danceability           -0.349418 -0.066942 -0.063817            0.154002  \n",
      "Energy                 -0.385829  0.130201  0.135110           -0.074721  \n",
      "Loudness               -0.376252  0.082523  0.086825            0.072098  \n",
      "Speechiness            -0.040905  0.161238  0.117097           -0.252975  \n",
      "Acousticness            1.000000 -0.126337 -0.089189            0.037384  \n",
      "Liveness               -0.126337  1.000000  0.041149           -0.094607  \n",
      "Tempo                  -0.089189  0.041149  1.000000            0.034514  \n",
      "Album Release Year      0.037384 -0.094607  0.034514            1.000000  \n"
     ]
    }
   ],
   "source": [
    "# Correlation\n",
    "print(newspotdf.corr())"
   ]
  },
  {
   "cell_type": "code",
   "execution_count": 11,
   "metadata": {},
   "outputs": [
    {
     "name": "stdout",
     "output_type": "stream",
     "text": [
      "            Score            GDP\n",
      "count  137.000000     137.000000\n",
      "mean     5.539755   18187.739781\n",
      "std      1.139908   24494.805589\n",
      "min      1.859000     363.700000\n",
      "25%      4.723900    2255.200000\n",
      "50%      5.684300    6776.500000\n",
      "75%      6.333800   24826.800000\n",
      "max      7.804200  126426.100000\n",
      "          Score       GDP\n",
      "Score  1.000000  0.695397\n",
      "GDP    0.695397  1.000000\n"
     ]
    }
   ],
   "source": [
    "import pandas as pd\n",
    "\n",
    "happygdp = pd.read_csv(\"../websitedata/happy_py.csv\")\n",
    "\n",
    "happygdp[\"GDP\"] = happygdp[\"GDP\"].str.replace(',', '').astype(float)\n",
    "#print(happygdp.dtypes)\n",
    "\n",
    "lifesat = happygdp.drop(columns={\"Entity\", \"Code\", \"Unnamed: 0\"})\n",
    "\n",
    "#summary\n",
    "print(lifesat.describe()) \n",
    "#correlation\n",
    "print(lifesat.corr())"
   ]
  }
 ],
 "metadata": {
  "kernelspec": {
   "display_name": "Python 3",
   "language": "python",
   "name": "python3"
  },
  "language_info": {
   "codemirror_mode": {
    "name": "ipython",
    "version": 3
   },
   "file_extension": ".py",
   "mimetype": "text/x-python",
   "name": "python",
   "nbconvert_exporter": "python",
   "pygments_lexer": "ipython3",
   "version": "3.11.6"
  }
 },
 "nbformat": 4,
 "nbformat_minor": 2
}
