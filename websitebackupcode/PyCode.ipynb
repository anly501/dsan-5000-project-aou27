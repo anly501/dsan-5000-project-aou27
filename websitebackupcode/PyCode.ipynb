{
 "cells": [
  {
   "cell_type": "code",
   "execution_count": 5,
   "metadata": {},
   "outputs": [],
   "source": [
    "import requests\n",
    "import json\n",
    "import re\n",
    "#import pycountry\n",
    "import pandas as pd\n",
    "import numpy as np\n",
    "from sklearn.feature_extraction.text import CountVectorizer\n",
    "from pathlib import Path"
   ]
  },
  {
   "cell_type": "markdown",
   "metadata": {},
   "source": [
    "## Apple"
   ]
  },
  {
   "cell_type": "code",
   "execution_count": 32,
   "metadata": {},
   "outputs": [
    {
     "name": "stdout",
     "output_type": "stream",
     "text": [
      "<class 'pandas.core.frame.DataFrame'>\n",
      "       Chart Position                     Artist and Title  Position Duration  \\\n",
      "0                   1        Doja Cat - Paint The Town Red                 68   \n",
      "1                   2                  Tate McRae - greedy                 27   \n",
      "2                   3                        Drake - IDGAF                  6   \n",
      "3                   4         Drake - First Person Shooter                  6   \n",
      "4                   5               Drake - Virginia Beach                  6   \n",
      "...               ...                                  ...                ...   \n",
      "11747               7          Taylor Swift - Cruel Summer                245   \n",
      "11770              30  Billie Eilish - What Was I Made For                 90   \n",
      "11773              33             Taylor Swift - Anti-Hero                356   \n",
      "11802              62                 Taylor Swift - Lover                412   \n",
      "11810              70                      SZA - Kill Bill                307   \n",
      "\n",
      "       Peak (x?)  Points Country  Country Rank  \n",
      "0         1   45   16920      US          29.0  \n",
      "1         2    9   14619      US          44.0  \n",
      "2         3    1   13364      US           1.0  \n",
      "3         3    2   12624      US           2.0  \n",
      "4         2    2   12359      US           3.0  \n",
      "...     ...  ...     ...     ...           ...  \n",
      "11747     1   13   10731      VN          28.0  \n",
      "11770     2   10    5425      VN         166.0  \n",
      "11773     1   50    5108      VN         146.0  \n",
      "11802     3   13    2739      VN         116.0  \n",
      "11810     1    3    2487      VN         104.0  \n",
      "\n",
      "[836 rows x 8 columns]\n",
      "(836, 8)\n"
     ]
    }
   ],
   "source": [
    "appledf = pd.read_csv(\"../websitedata/appletopsongsinternational2023.csv\")\n",
    "#print(appledf.shape)\n",
    "print(type(appledf))\n",
    "\n",
    "appledf.dropna\n",
    "\n",
    "appledf = pd.melt(appledf, id_vars=[\"Pos\", \"P+\", \"Artist and Title\", \"Days\", \"Pk\", \"(x?)\", \"Pts\", \"Pts+\", \"TPts\"], \n",
    "                   var_name=\"country\", value_name=\"country_rank\").dropna()\n",
    "\n",
    "#print(appledf.isnull().sum())\n",
    "#print(appledf.isna().sum())\n",
    "\n",
    "appledf = appledf.drop(columns=[\"P+\", \"Pts+\", \"TPts\"])\n",
    "appledf = appledf.rename(columns={\"Pos\": \"Chart Position\",\"Days\": \"Position Duration\", \"Pk\": \"Peak\", \n",
    "                                  \"Pts\": \"Points\", \"country\": \"Country\", \"country_rank\": \"Country Rank\"})\n",
    "\n",
    "#print(appledf[\"(x?)\"].value_counts())\n",
    "\n",
    "appledf[\"(x?)\"] = appledf[\"(x?)\"].str.replace(r'[()]|x', \"\", regex = True)\n",
    "#appledf = appledf[appledf[\"Country\"].str.contains(\"^US\", na=False)]\n",
    "\n",
    "\n",
    "print(appledf)\n",
    "#appledf.to_csv(\"../websitedata/apple_py.csv\")\n",
    "print(appledf.shape)\n"
   ]
  },
  {
   "cell_type": "markdown",
   "metadata": {},
   "source": [
    "## Spotify"
   ]
  },
  {
   "cell_type": "code",
   "execution_count": 33,
   "metadata": {},
   "outputs": [
    {
     "name": "stdout",
     "output_type": "stream",
     "text": [
      "<bound method NDFrame.head of      Unnamed: 0     Artist Name  Valence  Danceablity  Energy  Loudness  \\\n",
      "0             1        Doja Cat    0.726        0.864   0.556    -7.683   \n",
      "1             2        Doja Cat    0.313        0.831   0.362    -6.085   \n",
      "2             3        Doja Cat    0.192        0.804   0.656    -5.723   \n",
      "3             4        Doja Cat    0.643        0.764   0.720    -6.494   \n",
      "4             5        Doja Cat    0.794        0.854   0.808    -5.958   \n",
      "..          ...             ...      ...          ...     ...       ...   \n",
      "388         389  Olivia Rodrigo    0.269        0.638   0.259   -10.706   \n",
      "389         390  Olivia Rodrigo    0.338        0.395   0.443    -9.720   \n",
      "390         391  Olivia Rodrigo    0.699        0.695   0.575    -6.334   \n",
      "391         392  Olivia Rodrigo    0.218        0.369   0.272   -10.497   \n",
      "392         393  Olivia Rodrigo    0.172        0.443   0.298   -12.181   \n",
      "\n",
      "     Speechiness    Tempo            Track Name Album Name  Album Release Year  \n",
      "0         0.1940   99.974    Paint The Town Red    Scarlet                2023  \n",
      "1         0.2290  139.941                Demons    Scarlet                2023  \n",
      "2         0.0896  150.014            Wet Vagina    Scarlet                2023  \n",
      "3         0.2730   91.337  Fuck The Girls (FTG)    Scarlet                2023  \n",
      "4         0.1390  110.203               Ouchies    Scarlet                2023  \n",
      "..           ...      ...                   ...        ...                 ...  \n",
      "388       0.0898   88.485        enough for you       SOUR                2021  \n",
      "389       0.1330  168.924               happier       SOUR                2021  \n",
      "390       0.1160  163.929    jealousy, jealousy       SOUR                2021  \n",
      "391       0.0364  172.929        favorite crime       SOUR                2021  \n",
      "392       0.0644   77.253            hope ur ok       SOUR                2021  \n",
      "\n",
      "[393 rows x 11 columns]>\n",
      "(393, 11)\n"
     ]
    }
   ],
   "source": [
    "spotifydf = pd.read_csv(\"../websitedata/Spotify.csv\")\n",
    "#print(type(spotifydf))\n",
    "\n",
    "\n",
    "#spotifydf.dropna\n",
    "#print(spotifydf.isnull().sum())\n",
    "#print(spotifydf.isna().sum())\n",
    "\n",
    "spotifydf = spotifydf.rename(columns={\"artist_name\": \"Artist Name\",\"track_name\": \"Track Name\", \n",
    "                                      \"danceability\": \"Danceablity\", \"energy\": \"Energy\", \"loudness\": \"Loudness\",\n",
    "                                      \"speechiness\": \"Speechiness\", \"acousticness\": \"Acousticness\",\n",
    "                                      \"liveness\": \"Liveness\", \"tempo\": \"Tempo\", \"album_name\": \"Album Name\", \n",
    "                                      \"album_release_year\": \"Album Release Year\"})\n",
    "\n",
    "spotifydf = spotifydf.drop(columns=[\"Liveness\", \"Acousticness\"])\n",
    "\n",
    "print(spotifydf.head)\n",
    "print(spotifydf.shape)\n"
   ]
  },
  {
   "cell_type": "markdown",
   "metadata": {},
   "source": [
    "## Netflix"
   ]
  },
  {
   "cell_type": "code",
   "execution_count": 11,
   "metadata": {},
   "outputs": [
    {
     "name": "stdout",
     "output_type": "stream",
     "text": [
      "                                         Title  Points\n",
      "2                              Stranger Things  63,800\n",
      "3                                     Manifest  53,337\n",
      "4                               Inventing Anna  34,393\n",
      "5   Dahmer - Monster: The Jeffrey Dahmer Story  34,086\n",
      "6                                   Bridgerton  30,229\n",
      "7                                    Wednesday  30,102\n",
      "8                      Café con aroma de mujer  28,765\n",
      "9                          Pasión de gavilanes  27,591\n",
      "10                          All of Us Are Dead  26,955\n",
      "11                                   The Crown  25,874\n",
      "12                  Extraordinary Attorney Woo  24,352\n",
      "13                Pablo Escobar, The Drug Lord  24,273\n",
      "14                                       Ozark  23,757\n",
      "15                                 The Sandman  23,026\n",
      "16                           Business Proposal  21,123\n",
      "17                         Yo soy Betty la fea  20,912\n",
      "18                                   Cobra Kai  20,786\n",
      "19                          The Lincoln Lawyer  19,521\n",
      "20                               Love Is Blind  18,889\n",
      "21                                       Elite  18,659\n",
      "22                              Emily in Paris  18,288\n",
      "23                                        1899  17,988\n",
      "24                            Alchemy of Souls  17,326\n",
      "25                        The Umbrella Academy  17,073\n",
      "26                                 The Watcher  15,699\n",
      "(25, 2)\n"
     ]
    }
   ],
   "source": [
    "netflixdf = pd.read_csv(\"../websitedata/netflixWorld2022.csv\")\n",
    "#print(netflixdf.shape)\n",
    "#print(type(netflixdf))\n",
    "\n",
    "netflixdf = netflixdf.rename(columns={\"Top TV shows on Netflix worldwide 2022\": \"Title\", \"Unnamed: 1\": \"Points\"})\n",
    "\n",
    "\n",
    "netflixdf.drop([0,1], inplace=True)\n",
    "#print(netflixdf.isnull().sum())\n",
    "#print(netflixdf.isna().sum())\n",
    "\n",
    "\n",
    "print(netflixdf)\n",
    "netflixdf.to_csv(\"../websitedata/netflix_py.csv\")\n",
    "print(netflixdf.shape)"
   ]
  },
  {
   "cell_type": "markdown",
   "metadata": {},
   "source": [
    "# Exploring Data Tab"
   ]
  },
  {
   "cell_type": "code",
   "execution_count": 7,
   "metadata": {},
   "outputs": [
    {
     "name": "stdout",
     "output_type": "stream",
     "text": [
      "       Chart Position  Position Duration        Peak        Points  \\\n",
      "count      836.000000         836.000000  836.000000    836.000000   \n",
      "mean        42.502392         308.492823    1.671053   7506.009569   \n",
      "std         49.812835         427.604273    0.724705   5080.042094   \n",
      "min          1.000000           6.000000    1.000000   1056.000000   \n",
      "25%          5.000000          68.000000    1.000000   2739.000000   \n",
      "50%         30.000000         132.000000    2.000000   5425.000000   \n",
      "75%         62.000000         393.000000    2.000000  12359.000000   \n",
      "max        198.000000        1982.000000    3.000000  16920.000000   \n",
      "\n",
      "       Country Rank  \n",
      "count    836.000000  \n",
      "mean      61.480861  \n",
      "std       52.836577  \n",
      "min        1.000000  \n",
      "25%       16.000000  \n",
      "50%       48.500000  \n",
      "75%       93.000000  \n",
      "max      200.000000  \n",
      "   Chart Position  Position Duration  Peak (x?)  Points  Country Rank\n",
      "0               1                 68     1   45   16920          29.0\n",
      "1               2                 27     2    9   14619          44.0\n",
      "2               3                  6     3    1   13364           1.0\n",
      "3               4                  6     3    2   12624           2.0\n",
      "4               5                  6     2    2   12359           3.0\n"
     ]
    }
   ],
   "source": [
    "print(appledf.describe())\n",
    "\n",
    "newAppledf = appledf.drop([\"Artist and Title\", \"Country\"], axis=1)\n",
    "newAppledf = newAppledf.reset_index(drop=True)\n",
    "\n",
    "print(newAppledf.head())"
   ]
  },
  {
   "cell_type": "code",
   "execution_count": 8,
   "metadata": {},
   "outputs": [
    {
     "name": "stdout",
     "output_type": "stream",
     "text": [
      "Chart Position       int64\n",
      "Position Duration    int64\n",
      "Peak                 int64\n",
      "(x?)                 int32\n",
      "Points               int64\n",
      "Country Rank         int32\n",
      "dtype: object\n",
      "       Chart Position  Position Duration        Peak        (x?)  \\\n",
      "count      836.000000         836.000000  836.000000  836.000000   \n",
      "mean        42.502392         308.492823    1.671053   32.011962   \n",
      "std         49.812835         427.604273    0.724705   47.504048   \n",
      "min          1.000000           6.000000    1.000000    1.000000   \n",
      "25%          5.000000          68.000000    1.000000    3.000000   \n",
      "50%         30.000000         132.000000    2.000000   14.000000   \n",
      "75%         62.000000         393.000000    2.000000   32.000000   \n",
      "max        198.000000        1982.000000    3.000000  177.000000   \n",
      "\n",
      "             Points  Country Rank  \n",
      "count    836.000000    836.000000  \n",
      "mean    7506.009569     61.480861  \n",
      "std     5080.042094     52.836577  \n",
      "min     1056.000000      1.000000  \n",
      "25%     2739.000000     16.000000  \n",
      "50%     5425.000000     48.500000  \n",
      "75%    12359.000000     93.000000  \n",
      "max    16920.000000    200.000000  \n",
      "                   Chart Position  Position Duration      Peak      (x?)  \\\n",
      "Chart Position           1.000000           0.537127 -0.006928 -0.043663   \n",
      "Position Duration        0.537127           1.000000 -0.234745  0.250226   \n",
      "Peak                    -0.006928          -0.234745  1.000000 -0.438067   \n",
      "(x?)                    -0.043663           0.250226 -0.438067  1.000000   \n",
      "Points                  -0.788348          -0.543229  0.094603 -0.179048   \n",
      "Country Rank             0.529540           0.329221 -0.048784  0.019253   \n",
      "\n",
      "                     Points  Country Rank  \n",
      "Chart Position    -0.788348      0.529540  \n",
      "Position Duration -0.543229      0.329221  \n",
      "Peak               0.094603     -0.048784  \n",
      "(x?)              -0.179048      0.019253  \n",
      "Points             1.000000     -0.518561  \n",
      "Country Rank      -0.518561      1.000000  \n"
     ]
    }
   ],
   "source": [
    "newAppledf[\"(x?)\"] = newAppledf[\"(x?)\"].astype(int)\n",
    "newAppledf[\"Country Rank\"] = newAppledf[\"Country Rank\"].astype(int)\n",
    "print(newAppledf.dtypes)\n",
    "newAppledf.to_csv(\"../websitedata/newApple_py.csv\")\n",
    "\n",
    "# Summary\n",
    "print(newAppledf.describe())\n",
    "\n",
    "# Correlation\n",
    "print(newAppledf.corr())\n",
    "\n",
    "# Outliers"
   ]
  },
  {
   "cell_type": "code",
   "execution_count": 13,
   "metadata": {},
   "outputs": [],
   "source": [
    "# Summary FOR TEXT I THINK"
   ]
  }
 ],
 "metadata": {
  "kernelspec": {
   "display_name": "Python 3",
   "language": "python",
   "name": "python3"
  },
  "language_info": {
   "codemirror_mode": {
    "name": "ipython",
    "version": 3
   },
   "file_extension": ".py",
   "mimetype": "text/x-python",
   "name": "python",
   "nbconvert_exporter": "python",
   "pygments_lexer": "ipython3",
   "version": "3.11.6"
  }
 },
 "nbformat": 4,
 "nbformat_minor": 2
}
