{
 "cells": [
  {
   "cell_type": "code",
   "execution_count": 2,
   "metadata": {},
   "outputs": [],
   "source": [
    "import requests\n",
    "import json\n",
    "import re\n",
    "#import pycountry\n",
    "import pandas as pd\n",
    "import numpy as np\n",
    "from sklearn.feature_extraction.text import CountVectorizer\n",
    "from pathlib import Path"
   ]
  },
  {
   "cell_type": "markdown",
   "metadata": {},
   "source": [
    "## Apple"
   ]
  },
  {
   "cell_type": "code",
   "execution_count": 3,
   "metadata": {},
   "outputs": [
    {
     "name": "stdout",
     "output_type": "stream",
     "text": [
      "<class 'pandas.core.frame.DataFrame'>\n",
      "       Chart Position                     Artist and Title  Duration (Days)  \\\n",
      "0                   1        Doja Cat - Paint The Town Red               68   \n",
      "1                   2                  Tate McRae - greedy               27   \n",
      "2                   3                        Drake - IDGAF                6   \n",
      "3                   4         Drake - First Person Shooter                6   \n",
      "4                   5               Drake - Virginia Beach                6   \n",
      "...               ...                                  ...              ...   \n",
      "11747               7          Taylor Swift - Cruel Summer              245   \n",
      "11770              30  Billie Eilish - What Was I Made For               90   \n",
      "11773              33             Taylor Swift - Anti-Hero              356   \n",
      "11802              62                 Taylor Swift - Lover              412   \n",
      "11810              70                      SZA - Kill Bill              307   \n",
      "\n",
      "       Peak (x?)  Points Country  Country Rank  \n",
      "0         1   45   16920      US          29.0  \n",
      "1         2    9   14619      US          44.0  \n",
      "2         3    1   13364      US           1.0  \n",
      "3         3    2   12624      US           2.0  \n",
      "4         2    2   12359      US           3.0  \n",
      "...     ...  ...     ...     ...           ...  \n",
      "11747     1   13   10731      VN          28.0  \n",
      "11770     2   10    5425      VN         166.0  \n",
      "11773     1   50    5108      VN         146.0  \n",
      "11802     3   13    2739      VN         116.0  \n",
      "11810     1    3    2487      VN         104.0  \n",
      "\n",
      "[836 rows x 8 columns]\n",
      "(836, 8)\n"
     ]
    }
   ],
   "source": [
    "appledf = pd.read_csv(\"../websitedata/appletopsongsinternational2023.csv\")\n",
    "#print(appledf.shape)\n",
    "print(type(appledf))\n",
    "\n",
    "appledf.dropna\n",
    "\n",
    "appledf = pd.melt(appledf, id_vars=[\"Pos\", \"P+\", \"Artist and Title\", \"Days\", \"Pk\", \"(x?)\", \"Pts\", \"Pts+\", \"TPts\"], \n",
    "                   var_name=\"country\", value_name=\"country_rank\").dropna()\n",
    "\n",
    "#print(appledf.isnull().sum())\n",
    "#print(appledf.isna().sum())\n",
    "\n",
    "appledf = appledf.drop(columns=[\"P+\", \"Pts+\", \"TPts\"])\n",
    "appledf = appledf.rename(columns={\"Pos\": \"Chart Position\",\"Days\": \"Duration (Days)\", \"Pk\": \"Peak\", \n",
    "                                  \"Pts\": \"Points\", \"country\": \"Country\", \"country_rank\": \"Country Rank\"})\n",
    "\n",
    "#print(appledf[\"(x?)\"].value_counts())\n",
    "\n",
    "appledf[\"(x?)\"] = appledf[\"(x?)\"].str.replace(r'[()]|x', \"\", regex = True)\n",
    "#appledf = appledf[appledf[\"Country\"].str.contains(\"^US\", na=False)]\n",
    "\n",
    "\n",
    "print(appledf)\n",
    "#appledf.to_csv(\"../websitedata/apple_py.csv\")\n",
    "print(appledf.shape)\n"
   ]
  },
  {
   "cell_type": "markdown",
   "metadata": {},
   "source": [
    "## Spotify"
   ]
  },
  {
   "cell_type": "code",
   "execution_count": 4,
   "metadata": {},
   "outputs": [
    {
     "name": "stdout",
     "output_type": "stream",
     "text": [
      "<bound method NDFrame.head of      Unnamed: 0     Artist Name  Valence  Danceability  Energy  Loudness  \\\n",
      "0             1        Doja Cat    0.726         0.864   0.556    -7.683   \n",
      "1             2        Doja Cat    0.313         0.831   0.362    -6.085   \n",
      "2             3        Doja Cat    0.192         0.804   0.656    -5.723   \n",
      "3             4        Doja Cat    0.643         0.764   0.720    -6.494   \n",
      "4             5        Doja Cat    0.794         0.854   0.808    -5.958   \n",
      "..          ...             ...      ...           ...     ...       ...   \n",
      "388         389  Olivia Rodrigo    0.269         0.638   0.259   -10.706   \n",
      "389         390  Olivia Rodrigo    0.338         0.395   0.443    -9.720   \n",
      "390         391  Olivia Rodrigo    0.699         0.695   0.575    -6.334   \n",
      "391         392  Olivia Rodrigo    0.218         0.369   0.272   -10.497   \n",
      "392         393  Olivia Rodrigo    0.172         0.443   0.298   -12.181   \n",
      "\n",
      "     Speechiness    Tempo            Track Name Album Name  Album Release Year  \n",
      "0         0.1940   99.974    Paint The Town Red    Scarlet                2023  \n",
      "1         0.2290  139.941                Demons    Scarlet                2023  \n",
      "2         0.0896  150.014            Wet Vagina    Scarlet                2023  \n",
      "3         0.2730   91.337  Fuck The Girls (FTG)    Scarlet                2023  \n",
      "4         0.1390  110.203               Ouchies    Scarlet                2023  \n",
      "..           ...      ...                   ...        ...                 ...  \n",
      "388       0.0898   88.485        enough for you       SOUR                2021  \n",
      "389       0.1330  168.924               happier       SOUR                2021  \n",
      "390       0.1160  163.929    jealousy, jealousy       SOUR                2021  \n",
      "391       0.0364  172.929        favorite crime       SOUR                2021  \n",
      "392       0.0644   77.253            hope ur ok       SOUR                2021  \n",
      "\n",
      "[393 rows x 11 columns]>\n",
      "(393, 11)\n"
     ]
    }
   ],
   "source": [
    "spotifydf = pd.read_csv(\"../websitedata/Spotify.csv\")\n",
    "#print(type(spotifydf))\n",
    "\n",
    "\n",
    "#spotifydf.dropna\n",
    "#print(spotifydf.isnull().sum())\n",
    "#print(spotifydf.isna().sum())\n",
    "\n",
    "spotifydf = spotifydf.rename(columns={\"artist_name\": \"Artist Name\",\"track_name\": \"Track Name\", \n",
    "                                      \"danceability\": \"Danceability\", \"energy\": \"Energy\", \"loudness\": \"Loudness\",\n",
    "                                      \"speechiness\": \"Speechiness\", \"acousticness\": \"Acousticness\",\n",
    "                                      \"liveness\": \"Liveness\", \"tempo\": \"Tempo\", \"album_name\": \"Album Name\", \n",
    "                                      \"album_release_year\": \"Album Release Year\"})\n",
    "\n",
    "spotifydf = spotifydf.drop(columns=[\"Liveness\", \"Acousticness\"])\n",
    "\n",
    "print(spotifydf.head)\n",
    "#spotifydf.to_csv(\"../websitedata/spotify_py.csv\")\n",
    "print(spotifydf.shape)\n"
   ]
  },
  {
   "cell_type": "markdown",
   "metadata": {},
   "source": [
    "## Netflix"
   ]
  },
  {
   "cell_type": "code",
   "execution_count": 5,
   "metadata": {},
   "outputs": [
    {
     "name": "stdout",
     "output_type": "stream",
     "text": [
      "                                         Title  Points\n",
      "2                              Stranger Things  63,800\n",
      "3                                     Manifest  53,337\n",
      "4                               Inventing Anna  34,393\n",
      "5   Dahmer - Monster: The Jeffrey Dahmer Story  34,086\n",
      "6                                   Bridgerton  30,229\n",
      "7                                    Wednesday  30,102\n",
      "8                      Café con aroma de mujer  28,765\n",
      "9                          Pasión de gavilanes  27,591\n",
      "10                          All of Us Are Dead  26,955\n",
      "11                                   The Crown  25,874\n",
      "12                  Extraordinary Attorney Woo  24,352\n",
      "13                Pablo Escobar, The Drug Lord  24,273\n",
      "14                                       Ozark  23,757\n",
      "15                                 The Sandman  23,026\n",
      "16                           Business Proposal  21,123\n",
      "17                         Yo soy Betty la fea  20,912\n",
      "18                                   Cobra Kai  20,786\n",
      "19                          The Lincoln Lawyer  19,521\n",
      "20                               Love Is Blind  18,889\n",
      "21                                       Elite  18,659\n",
      "22                              Emily in Paris  18,288\n",
      "23                                        1899  17,988\n",
      "24                            Alchemy of Souls  17,326\n",
      "25                        The Umbrella Academy  17,073\n",
      "26                                 The Watcher  15,699\n",
      "(25, 2)\n"
     ]
    }
   ],
   "source": [
    "netflixdf = pd.read_csv(\"../websitedata/netflixWorld2022.csv\")\n",
    "#print(netflixdf.shape)\n",
    "#print(type(netflixdf))\n",
    "\n",
    "netflixdf = netflixdf.rename(columns={\"Top TV shows on Netflix worldwide 2022\": \"Title\", \"Unnamed: 1\": \"Points\"})\n",
    "\n",
    "\n",
    "netflixdf.drop([0,1], inplace=True)\n",
    "#print(netflixdf.isnull().sum())\n",
    "#print(netflixdf.isna().sum())\n",
    "\n",
    "\n",
    "print(netflixdf)\n",
    "#netflixdf.to_csv(\"../websitedata/netflix_py.csv\")\n",
    "print(netflixdf.shape)"
   ]
  },
  {
   "cell_type": "markdown",
   "metadata": {},
   "source": [
    "# Self- Reported Happiness"
   ]
  },
  {
   "cell_type": "code",
   "execution_count": 6,
   "metadata": {},
   "outputs": [
    {
     "name": "stdout",
     "output_type": "stream",
     "text": [
      "(137, 4)\n",
      "<bound method NDFrame.head of             Entity Code   Score        GDP\n",
      "1      Afghanistan  AFG  1.8590      363.7\n",
      "597        Albania  ALB  5.2773   6,802.80\n",
      "857        Algeria  DZA  5.3291   4,273.90\n",
      "2133     Argentina  ARG  6.0237  13,686.00\n",
      "2393       Armenia  ARM  5.3417   7,014.20\n",
      "...            ...  ...     ...        ...\n",
      "56105   Uzbekistan  UZB  6.0143   2,255.20\n",
      "56816    Venezuela  VEN  5.2106  15,975.70\n",
      "57076      Vietnam  VNM  5.7633   4,163.50\n",
      "58181       Zambia  ZMB  3.9822   1,487.90\n",
      "58442     Zimbabwe  ZWE  3.2035   1,267.00\n",
      "\n",
      "[137 rows x 4 columns]>\n"
     ]
    }
   ],
   "source": [
    "happygdp = pd.read_csv(\"../websitedata/gdp-vs-happiness.csv\")\n",
    "\n",
    "#print(happygdp.dtypes)\n",
    "happygdp = happygdp[happygdp[\"Year\"] == 2022] \n",
    "happygdp = happygdp.drop([\"GDP per capita, PPP (constant 2017 international $)\", \"Population (historical estimates)\",\n",
    "                          \"Continent\", \"Year\"], axis=1)\n",
    "\n",
    "happygdp = happygdp.rename(columns={\"Cantril ladder score\": \"Score\", \"Unnamed: 7\": \"GDP\"})\n",
    "\n",
    "#print(happygdp.isna().sum())\n",
    "print(happygdp.shape)\n",
    "#happygdp.to_csv(\"../websitedata/happy_py.csv\")\n",
    "print(happygdp.head)"
   ]
  },
  {
   "cell_type": "markdown",
   "metadata": {},
   "source": [
    "# Exploring Data Tab"
   ]
  },
  {
   "cell_type": "code",
   "execution_count": 7,
   "metadata": {},
   "outputs": [
    {
     "name": "stdout",
     "output_type": "stream",
     "text": [
      "       Chart Position  Duration (Days)        Peak        Points  Country Rank\n",
      "count      836.000000       836.000000  836.000000    836.000000    836.000000\n",
      "mean        42.502392       308.492823    1.671053   7506.009569     61.480861\n",
      "std         49.812835       427.604273    0.724705   5080.042094     52.836577\n",
      "min          1.000000         6.000000    1.000000   1056.000000      1.000000\n",
      "25%          5.000000        68.000000    1.000000   2739.000000     16.000000\n",
      "50%         30.000000       132.000000    2.000000   5425.000000     48.500000\n",
      "75%         62.000000       393.000000    2.000000  12359.000000     93.000000\n",
      "max        198.000000      1982.000000    3.000000  16920.000000    200.000000\n",
      "       Chart Position  Duration (Days)        Peak        Points  Country Rank\n",
      "count      836.000000       836.000000  836.000000    836.000000    836.000000\n",
      "mean        42.502392       308.492823    1.671053   7506.009569     61.480861\n",
      "std         49.812835       427.604273    0.724705   5080.042094     52.836577\n",
      "min          1.000000         6.000000    1.000000   1056.000000      1.000000\n",
      "25%          5.000000        68.000000    1.000000   2739.000000     16.000000\n",
      "50%         30.000000       132.000000    2.000000   5425.000000     48.500000\n",
      "75%         62.000000       393.000000    2.000000  12359.000000     93.000000\n",
      "max        198.000000      1982.000000    3.000000  16920.000000    200.000000\n"
     ]
    }
   ],
   "source": [
    "print(appledf.describe())\n",
    "\n",
    "newAppledf = appledf.drop([\"Artist and Title\", \"Country\"], axis=1)\n",
    "newAppledf = newAppledf.reset_index(drop=True)\n",
    "\n",
    "print(newAppledf.describe())"
   ]
  },
  {
   "cell_type": "code",
   "execution_count": 8,
   "metadata": {},
   "outputs": [
    {
     "name": "stdout",
     "output_type": "stream",
     "text": [
      "Chart Position     int64\n",
      "Duration (Days)    int64\n",
      "Peak               int64\n",
      "(x?)               int32\n",
      "Points             int64\n",
      "Country Rank       int32\n",
      "dtype: object\n",
      "       Chart Position  Duration (Days)        Peak        (x?)        Points  \\\n",
      "count      836.000000       836.000000  836.000000  836.000000    836.000000   \n",
      "mean        42.502392       308.492823    1.671053   32.011962   7506.009569   \n",
      "std         49.812835       427.604273    0.724705   47.504048   5080.042094   \n",
      "min          1.000000         6.000000    1.000000    1.000000   1056.000000   \n",
      "25%          5.000000        68.000000    1.000000    3.000000   2739.000000   \n",
      "50%         30.000000       132.000000    2.000000   14.000000   5425.000000   \n",
      "75%         62.000000       393.000000    2.000000   32.000000  12359.000000   \n",
      "max        198.000000      1982.000000    3.000000  177.000000  16920.000000   \n",
      "\n",
      "       Country Rank  \n",
      "count    836.000000  \n",
      "mean      61.480861  \n",
      "std       52.836577  \n",
      "min        1.000000  \n",
      "25%       16.000000  \n",
      "50%       48.500000  \n",
      "75%       93.000000  \n",
      "max      200.000000  \n",
      "                 Chart Position  Duration (Days)      Peak      (x?)  \\\n",
      "Chart Position         1.000000         0.537127 -0.006928 -0.043663   \n",
      "Duration (Days)        0.537127         1.000000 -0.234745  0.250226   \n",
      "Peak                  -0.006928        -0.234745  1.000000 -0.438067   \n",
      "(x?)                  -0.043663         0.250226 -0.438067  1.000000   \n",
      "Points                -0.788348        -0.543229  0.094603 -0.179048   \n",
      "Country Rank           0.529540         0.329221 -0.048784  0.019253   \n",
      "\n",
      "                   Points  Country Rank  \n",
      "Chart Position  -0.788348      0.529540  \n",
      "Duration (Days) -0.543229      0.329221  \n",
      "Peak             0.094603     -0.048784  \n",
      "(x?)            -0.179048      0.019253  \n",
      "Points           1.000000     -0.518561  \n",
      "Country Rank    -0.518561      1.000000  \n"
     ]
    }
   ],
   "source": [
    "newAppledf[\"(x?)\"] = newAppledf[\"(x?)\"].astype(int)\n",
    "newAppledf[\"Country Rank\"] = newAppledf[\"Country Rank\"].astype(int)\n",
    "print(newAppledf.dtypes)\n",
    "#newAppledf.to_csv(\"../websitedata/newApple_py.csv\")\n",
    "\n",
    "# Summary\n",
    "print(newAppledf.describe())\n",
    "\n",
    "# Correlation\n",
    "print(newAppledf.corr())\n",
    "\n",
    "# Outliers"
   ]
  },
  {
   "cell_type": "markdown",
   "metadata": {},
   "source": [
    "# Decision Tree (Move to PyAlgBackup)"
   ]
  },
  {
   "cell_type": "markdown",
   "metadata": {},
   "source": [
    "### TV and Happy"
   ]
  },
  {
   "cell_type": "markdown",
   "metadata": {},
   "source": [
    "### Music and Happy"
   ]
  },
  {
   "cell_type": "code",
   "execution_count": 87,
   "metadata": {},
   "outputs": [],
   "source": [
    "# feature selection tools\n",
    "from sklearn.feature_selection import SelectKBest\n",
    "from sklearn.feature_selection import chi2\n",
    "\n",
    "import pandas as pd\n",
    "import numpy as np\n",
    "\n",
    "import seaborn as sns \n",
    "import matplotlib.pyplot as plt\n",
    "\n",
    "from sklearn import tree\n",
    "from sklearn.feature_extraction.text import CountVectorizer\n",
    "\n",
    "from sklearn.metrics import confusion_matrix, ConfusionMatrixDisplay\n",
    "from sklearn.metrics import accuracy_score, precision_score, recall_score\n",
    "\n",
    "from sklearn.model_selection import train_test_split\n",
    "\n",
    "happydf = pd.read_csv(\"../websitedata/happy_py.csv\")\n",
    "\n",
    "appdf = pd.read_csv(\"../websitedata/apple_py.csv\")"
   ]
  },
  {
   "cell_type": "code",
   "execution_count": 88,
   "metadata": {},
   "outputs": [
    {
     "name": "stdout",
     "output_type": "stream",
     "text": [
      "<bound method NDFrame.head of                           Country   Score         GDP\n",
      "0                     Afghanistan  1.8590       363.7\n",
      "69                        Lebanon  2.3922    4,136.10\n",
      "109                  Sierra Leone  3.1376       461.4\n",
      "136                      Zimbabwe  3.2035    1,267.00\n",
      "31   Democratic Republic of Congo  3.2072       586.5\n",
      "13                       Botswana  3.4353    7,737.70\n",
      "74                         Malawi  3.4952       645.2\n",
      "24                        Comoros  3.5452    1,484.90\n",
      "121                      Tanzania  3.6938    1,192.40\n",
      "135                        Zambia  3.9822    1,487.90\n",
      "73                     Madagascar  4.0191         505\n",
      "53                          India  4.0358    2,388.60\n",
      "70                        Liberia  4.0423       754.5\n",
      "38                       Ethiopia  4.0906    1,027.60\n",
      "62                         Jordan  4.1198    4,204.50\n",
      "123                          Togo  4.1374       918.4\n",
      "35                          Egypt  4.1705    4,295.40\n",
      "76                           Mali  4.1978       833.3\n",
      "42                         Gambia  4.2794         840\n",
      "8                      Bangladesh  4.2821    2,688.30\n",
      "71                      Lithuania  6.7630   24,826.80\n",
      "129                United Kingdom  6.7956   45,850.40\n",
      "30                        Czechia  6.8452   27,638.40\n",
      "9                         Belgium  6.8591   49,582.80\n",
      "44                        Germany  6.8918   48,432.50\n",
      "130                 United States  6.8937   76,398.60\n",
      "57                        Ireland  6.9108  104,038.90\n",
      "19                         Canada  6.9607   54,966.50\n",
      "5                       Australia  7.0946   64,491.40\n",
      "6                         Austria  7.0973   52,131.40\n",
      "90                    New Zealand  7.1229   48,249.30\n",
      "72                     Luxembourg  7.2279  126,426.10\n",
      "118                   Switzerland  7.2401   92,101.50\n",
      "95                         Norway  7.3155  106,148.80\n",
      "117                        Sweden  7.3952   55,873.20\n",
      "89                    Netherlands  7.4030   55,985.40\n",
      "58                         Israel  7.4729   54,659.80\n",
      "52                        Iceland  7.5296   72,903.00\n",
      "32                        Denmark  7.5864   66,983.10\n",
      "39                        Finland  7.8042   50,536.60>\n"
     ]
    }
   ],
   "source": [
    "happydf = happydf.sort_values(by=\"Score\", ascending=True)\n",
    "happydf = happydf.drop(columns={\"Unnamed: 0\", \"Code\"}, axis=1)\n",
    "happy20 = pd.concat([happydf.head(20), happydf.tail(20)])\n",
    "happy20 = happy20.rename(columns={\"Entity\": \"Country\"})\n",
    "#print(happy20)\n",
    "print(happy20.head)"
   ]
  },
  {
   "cell_type": "code",
   "execution_count": 89,
   "metadata": {},
   "outputs": [
    {
     "name": "stdout",
     "output_type": "stream",
     "text": [
      "<bound method NDFrame.head of     Chart Position                    Artist and Title  Position Duration  \\\n",
      "0               84             Travis Scott - MELTDOWN                 76   \n",
      "1              126                Ed Sheeran - Perfect               1982   \n",
      "2                1       Doja Cat - Paint The Town Red                 68   \n",
      "3               84             Travis Scott - MELTDOWN                 76   \n",
      "4              198  Elton John & Dua Lipa - Cold Heart                787   \n",
      "5              126                Ed Sheeran - Perfect               1982   \n",
      "6               32               Miley Cyrus - Flowers                272   \n",
      "7               84             Travis Scott - MELTDOWN                 76   \n",
      "8               70                     SZA - Kill Bill                307   \n",
      "9               42            Harry Styles - As It Was                559   \n",
      "10             126                Ed Sheeran - Perfect               1982   \n",
      "11             126                Ed Sheeran - Perfect               1982   \n",
      "12             198  Elton John & Dua Lipa - Cold Heart                787   \n",
      "13             198  Elton John & Dua Lipa - Cold Heart                787   \n",
      "14               7         Taylor Swift - Cruel Summer                245   \n",
      "15              42            Harry Styles - As It Was                559   \n",
      "16              42            Harry Styles - As It Was                559   \n",
      "17             126                Ed Sheeran - Perfect               1982   \n",
      "18             126                Ed Sheeran - Perfect               1982   \n",
      "19             198  Elton John & Dua Lipa - Cold Heart                787   \n",
      "20             126                Ed Sheeran - Perfect               1982   \n",
      "21             198  Elton John & Dua Lipa - Cold Heart                787   \n",
      "22             198  Elton John & Dua Lipa - Cold Heart                787   \n",
      "23               1       Doja Cat - Paint The Town Red                 68   \n",
      "24               7         Taylor Swift - Cruel Summer                245   \n",
      "25             198  Elton John & Dua Lipa - Cold Heart                787   \n",
      "26             126                Ed Sheeran - Perfect               1982   \n",
      "27             198  Elton John & Dua Lipa - Cold Heart                787   \n",
      "28              84             Travis Scott - MELTDOWN                 76   \n",
      "29               7         Taylor Swift - Cruel Summer                245   \n",
      "30             126                Ed Sheeran - Perfect               1982   \n",
      "31             198  Elton John & Dua Lipa - Cold Heart                787   \n",
      "32              49        The Weeknd - Blinding Lights               1354   \n",
      "33              84             Travis Scott - MELTDOWN                 76   \n",
      "34             126                Ed Sheeran - Perfect               1982   \n",
      "35              18          Dua Lipa - Dance The Night                139   \n",
      "36              32               Miley Cyrus - Flowers                272   \n",
      "37               6            Olivia Rodrigo - vampire                104   \n",
      "38              84             Travis Scott - MELTDOWN                 76   \n",
      "39               1       Doja Cat - Paint The Town Red                 68   \n",
      "\n",
      "    Peak  (x?)  Points               Country  Country Rank  \n",
      "0      1     3    1860         United States          52.0  \n",
      "1      1     2    1446        United Kingdom         136.0  \n",
      "2      1    45   16920                 Japan         165.0  \n",
      "3      1     3    1860               Germany         170.0  \n",
      "4      1    41    1056             Australia          43.0  \n",
      "5      1     2    1446                Canada         150.0  \n",
      "6      1   168    5145                France         124.0  \n",
      "7      1     3    1860                 Italy         144.0  \n",
      "8      1     3    2487           South Korea          98.0  \n",
      "9      1   177    4017                Mexico         171.0  \n",
      "10     1     2    1446              Thailand         131.0  \n",
      "11     1     2    1446               Belgium         126.0  \n",
      "12     1    41    1056                Brazil          68.0  \n",
      "13     1    41    1056           Switzerland         122.0  \n",
      "14     1    13   10731                 China          71.0  \n",
      "15     1   177    4017              Colombia         186.0  \n",
      "16     1   177    4017                 Spain         164.0  \n",
      "17     1     2    1446             Hong Kong         182.0  \n",
      "18     1     2    1446             Indonesia         138.0  \n",
      "19     1    41    1056               Ireland         151.0  \n",
      "20     1     2    1446                 India         103.0  \n",
      "21     1    41    1056           Netherlands          99.0  \n",
      "22     1    41    1056           New Zealand          49.0  \n",
      "23     1    45   16920                Turkey          21.0  \n",
      "24     1    13   10731                Taiwan          20.0  \n",
      "25     1    41    1056          South Africa         177.0  \n",
      "26     1     2    1446  United Arab Emirates          91.0  \n",
      "27     1    41    1056             Argentina          93.0  \n",
      "28     1     3    1860               Austria         153.0  \n",
      "29     1    13   10731                 Chile         123.0  \n",
      "30     1     2    1446        Czech Republic          96.0  \n",
      "31     1    41    1056               Denmark         124.0  \n",
      "32     1   114    3624               Estonia          29.0  \n",
      "33     1     3    1860                 Egypt          47.0  \n",
      "34     1     2    1446               Finland         158.0  \n",
      "35     1    19    7035                Greece          92.0  \n",
      "36     1   168    5145               Hungary          74.0  \n",
      "37     1    22   10868                Israel          21.0  \n",
      "38     1     3    1860                 Kenya          59.0  \n",
      "39     1    45   16920            Kazakhstan           2.0  >\n"
     ]
    }
   ],
   "source": [
    "# Drake bc his songs are diverse enough in mood; extensive discography\n",
    "country_mapping = {\n",
    "    \"US\": \"United States\",'UK': 'United Kingdom','JP': 'Japan','DE': 'Germany','AU': 'Australia','CA': 'Canada',\n",
    "    'FR': 'France','IT': 'Italy','KR': 'South Korea','MX': 'Mexico','TH': 'Thailand','BE': 'Belgium','BR': 'Brazil',\n",
    "    'CH': 'Switzerland','CN': 'China','CO': 'Colombia','ES': 'Spain','HK': 'Hong Kong','ID': 'Indonesia',\n",
    "    'IE': 'Ireland','IN': 'India','NL': 'Netherlands','NZ': 'New Zealand','TR': 'Turkey','TW': 'Taiwan','ZA': 'South Africa',\n",
    "    'AE': 'United Arab Emirates','AR': 'Argentina','AT': 'Austria','CL': 'Chile','CZ': 'Czech Republic','DK': 'Denmark',\n",
    "    'EE': 'Estonia','EG': 'Egypt','FI': 'Finland','GR': 'Greece','HU': 'Hungary','IL': 'Israel','KE': 'Kenya','KZ': 'Kazakhstan',\n",
    "    'LB': 'Lebanon','LT': 'Lithuania','LU': 'Luxembourg','MY': 'Malaysia','NG': 'Nigeria','NO': 'Norway','PE': 'Peru',\n",
    "    'PH': 'Philippines','PL': 'Poland','PT': 'Portugal','RO': 'Romania','SA': 'Saudi Arabia','SE': 'Sweden',\n",
    "    'SI': 'Slovenia','SG': 'Singapore','SK': 'Slovakia','UA': 'Ukraine','VN': 'Vietnam'}\n",
    "appdf[\"Country\"] = appdf[\"Country\"].map(country_mapping)\n",
    "\n",
    "appdf = appdf.loc[appdf[\"Peak\"] == 1]\n",
    "appdf = appdf.drop_duplicates(subset=\"Country\", keep=\"last\") #did last bc first was all Doja Cat and want to see some variation\n",
    "appdf = appdf.drop(columns={\"Unnamed: 0\"})\n",
    "appdf = appdf.head(40)\n",
    "\n",
    "appdf = appdf.reset_index(drop=True)\n",
    "\n",
    "print(appdf.head)"
   ]
  },
  {
   "cell_type": "code",
   "execution_count": 90,
   "metadata": {},
   "outputs": [
    {
     "name": "stdout",
     "output_type": "stream",
     "text": [
      "(40, 8)\n",
      "(66, 11)\n",
      "Index(['Country', 'Score', 'GDP', 'Chart Position', 'Artist and Title',\n",
      "       'Position Duration', 'Peak', '(x?)', 'Points', 'Country',\n",
      "       'Country Rank'],\n",
      "      dtype='object')\n",
      "<bound method NDFrame.head of                           Country   Score       GDP  Chart Position  \\\n",
      "0                     Afghanistan  1.8590     363.7            84.0   \n",
      "69                        Lebanon  2.3922  4,136.10             NaN   \n",
      "109                  Sierra Leone  3.1376     461.4             NaN   \n",
      "136                      Zimbabwe  3.2035  1,267.00             NaN   \n",
      "31   Democratic Republic of Congo  3.2072     586.5           198.0   \n",
      "..                            ...     ...       ...             ...   \n",
      "29                            NaN     NaN       NaN             7.0   \n",
      "33                            NaN     NaN       NaN            84.0   \n",
      "34                            NaN     NaN       NaN           126.0   \n",
      "36                            NaN     NaN       NaN            32.0   \n",
      "37                            NaN     NaN       NaN             6.0   \n",
      "\n",
      "                       Artist and Title  Position Duration  Peak   (x?)  \\\n",
      "0               Travis Scott - MELTDOWN               76.0   1.0    3.0   \n",
      "69                                  NaN                NaN   NaN    NaN   \n",
      "109                                 NaN                NaN   NaN    NaN   \n",
      "136                                 NaN                NaN   NaN    NaN   \n",
      "31   Elton John & Dua Lipa - Cold Heart              787.0   1.0   41.0   \n",
      "..                                  ...                ...   ...    ...   \n",
      "29          Taylor Swift - Cruel Summer              245.0   1.0   13.0   \n",
      "33              Travis Scott - MELTDOWN               76.0   1.0    3.0   \n",
      "34                 Ed Sheeran - Perfect             1982.0   1.0    2.0   \n",
      "36                Miley Cyrus - Flowers              272.0   1.0  168.0   \n",
      "37             Olivia Rodrigo - vampire              104.0   1.0   22.0   \n",
      "\n",
      "      Points        Country  Country Rank  \n",
      "0     1860.0  United States          52.0  \n",
      "69       NaN            NaN           NaN  \n",
      "109      NaN            NaN           NaN  \n",
      "136      NaN            NaN           NaN  \n",
      "31    1056.0        Denmark         124.0  \n",
      "..       ...            ...           ...  \n",
      "29   10731.0          Chile         123.0  \n",
      "33    1860.0          Egypt          47.0  \n",
      "34    1446.0        Finland         158.0  \n",
      "36    5145.0        Hungary          74.0  \n",
      "37   10868.0         Israel          21.0  \n",
      "\n",
      "[66 rows x 11 columns]>\n"
     ]
    },
    {
     "ename": "",
     "evalue": "",
     "output_type": "error",
     "traceback": [
      "\u001b[1;31mThe Kernel crashed while executing code in the the current cell or a previous cell. Please review the code in the cell(s) to identify a possible cause of the failure. Click <a href='https://aka.ms/vscodeJupyterKernelCrash'>here</a> for more info. View Jupyter <a href='command:jupyter.viewOutput'>log</a> for further details."
     ]
    }
   ],
   "source": [
    "# Concatenate then vectorize countries\n",
    "print(appdf.shape)\n",
    "happymusicdf = pd.concat([happy20, appdf],axis=1)\n",
    "print(happymusicdf.shape)\n",
    "print(happymusicdf.keys())\n",
    "print(happymusicdf.head)"
   ]
  },
  {
   "cell_type": "code",
   "execution_count": null,
   "metadata": {},
   "outputs": [],
   "source": [
    "# use count vectorizer to retrieve word encodings\n",
    "count_vectorizer = CountVectorizer(min_df = 2)\n",
    "\n",
    "corpus = tweets_df['text'].to_list()\n",
    "y = tweets_df['sentiment_label']\n",
    "\n",
    "Xs = count_vectorizer.fit_transform(corpus)   \n",
    "X = np.array(Xs.todense())\n",
    "\n",
    "print(X.shape)"
   ]
  }
 ],
 "metadata": {
  "kernelspec": {
   "display_name": "Python 3",
   "language": "python",
   "name": "python3"
  },
  "language_info": {
   "codemirror_mode": {
    "name": "ipython",
    "version": 3
   },
   "file_extension": ".py",
   "mimetype": "text/x-python",
   "name": "python",
   "nbconvert_exporter": "python",
   "pygments_lexer": "ipython3",
   "version": "3.11.6"
  }
 },
 "nbformat": 4,
 "nbformat_minor": 2
}
