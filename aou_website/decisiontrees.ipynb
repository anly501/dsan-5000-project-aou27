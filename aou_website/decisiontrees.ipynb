{
  "cells": [
    {
      "cell_type": "raw",
      "metadata": {},
      "source": [
        "---\n",
        "title: \"Decision Trees\"\n",
        "---"
      ]
    },
    {
      "cell_type": "markdown",
      "metadata": {},
      "source": [
        "- basic Decision Tree\n",
        "- then boosting or random forest\n",
        "\n",
        "- regression and classification\n",
        "- go thru workflow again"
      ]
    },
    {
      "cell_type": "markdown",
      "metadata": {},
      "source": [
        "# Methods\n",
        "\n",
        "A decision tree algorithm is a supervised learning method that can be applied to both classification and regression cases. As the algorithm does not require parameters, the tree's structure depends on rules of decision- making (consisting of statements of conditions and outcomes) that will be used to infer the values of target variables.\n",
        "\n",
        "Next para..\n",
        "\n",
        "In this section, we will observe how a decision tree will classify the origin country of a song and determine the highest position of a song based on other independent variables."
      ]
    },
    {
      "cell_type": "markdown",
      "metadata": {},
      "source": [
        "# Class Distribution"
      ]
    },
    {
      "cell_type": "code",
      "execution_count": 43,
      "metadata": {},
      "outputs": [],
      "source": [
        "import pandas as pd\n",
        "import numpy as np\n",
        "\n",
        "import seaborn as sns \n",
        "import matplotlib.pyplot as plt\n",
        "\n",
        "from sklearn import tree\n",
        "from sklearn.feature_extraction.text import CountVectorizer\n",
        "\n",
        "from sklearn.metrics import confusion_matrix, ConfusionMatrixDisplay\n",
        "from sklearn.metrics import accuracy_score, precision_score, recall_score\n",
        "\n",
        "from sklearn.model_selection import train_test_split\n",
        "\n",
        "appledf = pd.read_csv(\"../websitedata/apple_py.csv\")\n",
        "\n",
        "newAppledf = pd.read_csv(\"../websitedata/newApple_py.csv\")"
      ]
    },
    {
      "cell_type": "code",
      "execution_count": 44,
      "metadata": {},
      "outputs": [
        {
          "name": "stdout",
          "output_type": "stream",
          "text": [
            "     Unnamed: 0  Chart Position                     Artist and Title  \\\n",
            "0             0               1        Doja Cat - Paint The Town Red   \n",
            "1             1               2                  Tate McRae - greedy   \n",
            "2             2               3                        Drake - IDGAF   \n",
            "3             3               4         Drake - First Person Shooter   \n",
            "4             4               5               Drake - Virginia Beach   \n",
            "..          ...             ...                                  ...   \n",
            "831       11747               7          Taylor Swift - Cruel Summer   \n",
            "832       11770              30  Billie Eilish - What Was I Made For   \n",
            "833       11773              33             Taylor Swift - Anti-Hero   \n",
            "834       11802              62                 Taylor Swift - Lover   \n",
            "835       11810              70                      SZA - Kill Bill   \n",
            "\n",
            "     Position Duration  Peak  (x?)  Points  Country  Country Rank  \n",
            "0                   68     1    45   16920   Inside          29.0  \n",
            "1                   27     2     9   14619   Inside          44.0  \n",
            "2                    6     3     1   13364   Inside           1.0  \n",
            "3                    6     3     2   12624   Inside           2.0  \n",
            "4                    6     2     2   12359   Inside           3.0  \n",
            "..                 ...   ...   ...     ...      ...           ...  \n",
            "831                245     1    13   10731  Outside          28.0  \n",
            "832                 90     2    10    5425  Outside         166.0  \n",
            "833                356     1    50    5108  Outside         146.0  \n",
            "834                412     3    13    2739  Outside         116.0  \n",
            "835                307     1     3    2487  Outside         104.0  \n",
            "\n",
            "[836 rows x 9 columns]\n"
          ]
        }
      ],
      "source": [
        "# DT Classification\n",
        "appledf[\"Country\"] = appledf[\"Country\"].replace({\"US\": \"Inside\"})\n",
        "appledf[\"Country\"] = appledf[\"Country\"].mask(appledf[\"Country\"] != \"Inside\", \"Outside\")\n",
        "y1 = appledf[\"Country\"]\n",
        "#y1=np.array(yOne)\n",
        "\n",
        "xOne = newAppledf.drop(columns=\"Peak\")\n",
        "x1 = np.array(xOne)\n",
        "print(appledf)"
      ]
    },
    {
      "cell_type": "code",
      "execution_count": 45,
      "metadata": {},
      "outputs": [
        {
          "name": "stdout",
          "output_type": "stream",
          "text": [
            "     Unnamed: 0  Chart Position  Position Duration  Peak  (x?)  Points  \\\n",
            "0             0               1                 68     1    45   16920   \n",
            "1             1               2                 27     2     9   14619   \n",
            "2             2               3                  6     3     1   13364   \n",
            "3             3               4                  6     3     2   12624   \n",
            "4             4               5                  6     2     2   12359   \n",
            "..          ...             ...                ...   ...   ...     ...   \n",
            "831         831               7                245     1    13   10731   \n",
            "832         832              30                 90     2    10    5425   \n",
            "833         833              33                356     1    50    5108   \n",
            "834         834              62                412     3    13    2739   \n",
            "835         835              70                307     1     3    2487   \n",
            "\n",
            "     Country Rank  \n",
            "0              29  \n",
            "1              44  \n",
            "2               1  \n",
            "3               2  \n",
            "4               3  \n",
            "..            ...  \n",
            "831            28  \n",
            "832           166  \n",
            "833           146  \n",
            "834           116  \n",
            "835           104  \n",
            "\n",
            "[836 rows x 7 columns]\n"
          ]
        }
      ],
      "source": [
        "# DT Regression\n",
        "\n",
        "y2 = appledf[\"Peak\"]\n",
        "#y2=np.array(yTwo)\n",
        "\n",
        "xTwo= newAppledf.drop(columns=\"Peak\")\n",
        "x2 = np.array(xTwo)\n",
        "print(newAppledf)"
      ]
    },
    {
      "cell_type": "markdown",
      "metadata": {},
      "source": [
        "# Class Distribution"
      ]
    },
    {
      "cell_type": "code",
      "execution_count": 46,
      "metadata": {},
      "outputs": [
        {
          "name": "stdout",
          "output_type": "stream",
          "text": [
            "(836, 6)\n",
            "(836,)\n",
            "(836, 6)\n",
            "(836,)\n"
          ]
        }
      ],
      "source": [
        "X1 = x1\n",
        "y1 = y1\n",
        "\n",
        "X2 = x2\n",
        "y2 = y2\n",
        "\n",
        "print(X1.shape)\n",
        "print(y1.shape)\n",
        "print(X2.shape)\n",
        "print(y2.shape)"
      ]
    },
    {
      "cell_type": "code",
      "execution_count": 85,
      "metadata": {},
      "outputs": [
        {
          "name": "stdout",
          "output_type": "stream",
          "text": [
            "(668, 6) (168, 6) (668,) (168,)\n"
          ]
        }
      ],
      "source": [
        "# split dataset into training and testing sets (80-20 split)\n",
        "X_train, X_test, y_train, y_test = train_test_split(X1, y1, test_size = 0.20, random_state = 1)\n",
        "print(X_train.shape, X_test.shape, y_train.shape, y_test.shape)"
      ]
    },
    {
      "cell_type": "code",
      "execution_count": 86,
      "metadata": {},
      "outputs": [
        {
          "name": "stdout",
          "output_type": "stream",
          "text": [
            "Class Distribution\n",
            "Country\n",
            "Outside    654\n",
            "Inside      14\n",
            "Name: count, dtype: int64\n",
            "\n",
            "Class Distribution\n",
            "[0.9790419161676647, 0.020958083832335328]\n",
            "\n",
            "Dominant Class: Inside\n"
          ]
        }
      ],
      "source": [
        "# Class Distributions\n",
        "classes = [\"Inside\", \"Outside\"]\n",
        "props = (y_train.value_counts() / len(y_train)).to_list()\n",
        "print(\"Class Distribution\\n\", y_train.value_counts(), sep = '')\n",
        "print(\"\\nClass Distribution\\n\", props, sep = '')\n",
        "\n",
        "# dominant class\n",
        "dominant_class = classes[props.index(max(props))]\n",
        "print(\"\\nDominant Class:\", dominant_class)"
      ]
    },
    {
      "cell_type": "code",
      "execution_count": 49,
      "metadata": {},
      "outputs": [
        {
          "name": "stdout",
          "output_type": "stream",
          "text": [
            "(668, 6) (168, 6) (668,) (168,)\n"
          ]
        }
      ],
      "source": [
        "# split dataset into training and testing sets (80-20 split)\n",
        "#X_train, X_test, y_train, y_test = train_test_split(X2, y2, test_size = 0.20, random_state = 1)\n",
        "#print(X_train.shape, X_test.shape, y_train.shape, y_test.shape)"
      ]
    },
    {
      "cell_type": "markdown",
      "metadata": {},
      "source": [
        "# Baseline Model for Comparison"
      ]
    },
    {
      "cell_type": "code",
      "execution_count": 87,
      "metadata": {},
      "outputs": [],
      "source": [
        "import numpy as np\n",
        "import random\n",
        "from collections import Counter\n",
        "from sklearn.metrics import confusion_matrix, accuracy_score, recall_score, precision_score\n",
        "from sklearn.metrics import precision_recall_fscore_support"
      ]
    },
    {
      "cell_type": "code",
      "execution_count": 88,
      "metadata": {},
      "outputs": [],
      "source": [
        "# function to print confusion matrix and other results\n",
        "def confusion_plot(title, y_data, y_pred):\n",
        "    \n",
        "    # create the confusion matrix and display\n",
        "    confusion = confusion_matrix(y_data, y_pred, labels = [\"Inside\", \"Outside\"])\n",
        "    disp = ConfusionMatrixDisplay(confusion_matrix = confusion, display_labels = [\"Inside\", \"Outside\"])\n",
        "    disp = disp.plot(cmap = plt.cm.Blues, values_format = 'g')\n",
        "\n",
        "    # report performance metrics\n",
        "    print(\"Accuracy:\", accuracy_score(y_data, y_pred))\n",
        "    print(\"Inside Recall    (Y = 'Inside'):\", round(recall_score(y_data, y_pred, pos_label = 'Inside'), 4))\n",
        "    print(\"Inside Precision (Y = 'Inside'):\", round(precision_score(y_data, y_pred, pos_label = 'Inside'), 4))\n",
        "    print(\"Outside Recall    (Y = 'Outside'):\", round(recall_score(y_data, y_pred, pos_label = 'Outside'), 4))\n",
        "    print(\"Outside Precision (Y = 'Outside'):\", round(precision_score(y_data, y_pred, pos_label = 'Outside'), 4))\n",
        "\n",
        "\n",
        "    # display the confusion matrix\n",
        "    plt.title(title)\n",
        "    plt.show()"
      ]
    },
    {
      "cell_type": "code",
      "execution_count": 89,
      "metadata": {},
      "outputs": [],
      "source": [
        "# get class imbalance proportions\n",
        "inside_percent = props[1]\n",
        "\n",
        "# training data\n",
        "uniforms = np.random.uniform(size = len(y_train))\n",
        "yp_train = [(\"Inside\" if uniform < inside_percent else \"Outside\") for uniform in uniforms]\n",
        "\n",
        "# testing data\n",
        "uniforms = np.random.uniform(size = len(y_test))\n",
        "yp_test = [(\"Inside\" if uniform < inside_percent else \"Outside\") for uniform in uniforms]"
      ]
    },
    {
      "cell_type": "code",
      "execution_count": 90,
      "metadata": {},
      "outputs": [
        {
          "name": "stdout",
          "output_type": "stream",
          "text": [
            "Accuracy: 0.9565868263473054\n",
            "Inside Recall    (Y = 'Inside'): 0.0\n",
            "Inside Precision (Y = 'Inside'): 0.0\n",
            "Outside Recall    (Y = 'Outside'): 0.9771\n",
            "Outside Precision (Y = 'Outside'): 0.9786\n"
          ]
        },
        {
          "data": {
            "image/png": "[encoded data removed]",
            "text/plain": [
              "<Figure size 640x480 with 2 Axes>"
            ]
          },
          "metadata": {},
          "output_type": "display_data"
        },
        {
          "name": "stdout",
          "output_type": "stream",
          "text": [
            "Accuracy: 0.9821428571428571\n",
            "Inside Recall    (Y = 'Inside'): 0.0\n",
            "Inside Precision (Y = 'Inside'): 0.0\n",
            "Outside Recall    (Y = 'Outside'): 0.994\n",
            "Outside Precision (Y = 'Outside'): 0.988\n"
          ]
        },
        {
          "data": {
            "image/png": "[encoded data removed]",
            "text/plain": [
              "<Figure size 640x480 with 2 Axes>"
            ]
          },
          "metadata": {},
          "output_type": "display_data"
        }
      ],
      "source": [
        "from sklearn.metrics import confusion_matrix\n",
        "\n",
        "confusion_plot('(Training Data) [Proportional Classifier]', y_data = y_train, y_pred = yp_train)\n",
        "confusion_plot('(Testing Data) [Proportional Classifier]', y_data = y_test, y_pred = yp_test)"
      ]
    },
    {
      "cell_type": "markdown",
      "metadata": {},
      "source": [
        "# Maybe Feature Selection bc Optional"
      ]
    },
    {
      "cell_type": "code",
      "execution_count": 100,
      "metadata": {},
      "outputs": [],
      "source": [
        "# construct the model\n",
        "tree_model = tree.DecisionTreeClassifier()\n",
        "tree_model = tree_model.fit(X = X_train, y = y_train)\n",
        "\n",
        "# predict on the train and test data\n",
        "yp_train = tree_model.predict(X_train)\n",
        "yp_test = tree_model.predict(X_test)"
      ]
    },
    {
      "cell_type": "code",
      "execution_count": 102,
      "metadata": {},
      "outputs": [
        {
          "data": {
            "image/png": "[encoded data removed]",
            "text/plain": [
              "<Figure size 640x480 with 1 Axes>"
            ]
          },
          "metadata": {},
          "output_type": "display_data"
        }
      ],
      "source": [
        "from sklearn.feature_selection import chi2\n",
        "from sklearn.feature_selection import SelectKBest\n",
        "\n",
        "# create some helpful vectors\n",
        "training_accuracy, testing_accuracy = [], []\n",
        "piece1 = np.linspace(2, 200, 100).astype(int)\n",
        "piece2 = np.linspace(210, 500, 30).astype(int)\n",
        "K_values = np.concatenate((piece1, piece2), axis = 0)\n",
        "\n",
        "for k in K_values:\n",
        "    # select best k features\n",
        "    X = X1\n",
        "    y = y1\n",
        "    X_new = SelectKBest(chi2, k = \"all\").fit_transform(X, y)\n",
        "    \n",
        "    # split dataset into training and testing sets (80-20 split)\n",
        "    X_train, X_test, y_train, y_test = train_test_split(X, y, test_size = 0.20, random_state = 1)\n",
        "\n",
        "    # fit the model\n",
        "    tree_model = tree_model.fit(X = X_train, y = y_train)\n",
        "\n",
        "    # predict on the train and test data\n",
        "    yp_train = tree_model.predict(X_train)\n",
        "    yp_test = tree_model.predict(X_test)\n",
        "\n",
        "    # append accuracies to vectors\n",
        "    training_accuracy.append(accuracy_score(y_train, yp_train))\n",
        "    testing_accuracy.append(accuracy_score(y_test, yp_test))\n",
        "\n",
        "# plot the training and testing accuracy against the number of features used\n",
        "plt.plot(K_values, training_accuracy, label = 'Training')\n",
        "plt.plot(K_values, testing_accuracy, label = 'Testing')\n",
        "plt.xlabel('Number of Features (K)'), plt.ylabel('Accuracy')\n",
        "plt.title('Accuracy vs. Number of Features')\n",
        "plt.legend()\n",
        "plt.show()"
      ]
    },
    {
      "cell_type": "markdown",
      "metadata": {},
      "source": [
        "# Hyperparameter Tuning "
      ]
    },
    {
      "cell_type": "code",
      "execution_count": 93,
      "metadata": {},
      "outputs": [
        {
          "name": "stdout",
          "output_type": "stream",
          "text": [
            "hyperparam = 1\n",
            " train error: 1.0\n",
            " test error: 0.9940476190476191\n",
            "hyperparam = 10\n",
            " train error: 1.0\n",
            " test error: 0.9940476190476191\n",
            "hyperparam = 20\n",
            " train error: 1.0\n",
            " test error: 0.9940476190476191\n",
            "hyperparam = 30\n",
            " train error: 1.0\n",
            " test error: 0.9940476190476191\n"
          ]
        }
      ],
      "source": [
        "from sklearn.metrics import mean_absolute_percentage_error\n",
        "from sklearn.metrics import mean_absolute_error\n",
        "from sklearn.tree import DecisionTreeClassifier\n",
        "\n",
        "x_train = X_train\n",
        "x_test = X_test\n",
        "\n",
        "# HYPER PARAMETER SEARCH FOR OPTIMAL NUMBER OF NEIGHBORS \n",
        "hyper_param=[]\n",
        "train_error=[]\n",
        "test_error=[]\n",
        "\n",
        "# LOOP OVER HYPER-PARAM\n",
        "for i in range(1,40):\n",
        "    # INITIALIZE MODEL \n",
        "    model = DecisionTreeClassifier(max_depth=i)\n",
        "\n",
        "    # TRAIN MODEL \n",
        "    model.fit(x_train,y_train)\n",
        "\n",
        "    # OUTPUT PREDICTIONS FOR TRAINING AND TEST SET \n",
        "    yp_train = model.predict(x_train)\n",
        "    yp_test = model.predict(x_test)\n",
        "\n",
        "    # shift=1+np.min(y_train) #add shift to remove division by zero \n",
        "    err1=accuracy_score(y_train, yp_train) \n",
        "    err2=accuracy_score(y_test, yp_test) \n",
        "    \n",
        "    # err1=100.0*np.mean(np.absolute((yp_train-y_train)/y_train))\n",
        "    # err2=100.0*np.mean(np.absolute((yp_test-y_test)/y_test))\n",
        "\n",
        "    hyper_param.append(i)\n",
        "    train_error.append(err1)\n",
        "    test_error.append(err2)\n",
        "\n",
        "    if(i==1 or i%10==0):\n",
        "        print(\"hyperparam =\",i)\n",
        "        print(\" train error:\",err1)\n",
        "        print(\" test error:\" ,err2)"
      ]
    },
    {
      "cell_type": "code",
      "execution_count": null,
      "metadata": {},
      "outputs": [],
      "source": [
        "# select best k features\n",
        "X_new = SelectKBest(chi2, k = 200).fit_transform(X, y)\n",
        "# split dataset into training and testing sets (80-20 split)\n",
        "X_train, X_test, y_train, y_test = train_test_split(X_new, y, test_size = 0.20, random_state = 1)\n",
        "\n",
        "# depths are [1, 2, ... , 40]\n",
        "max_depths = np.linspace(1, 60, 60).astype(int)\n",
        "# splits are [2, 3, ... , 11]\n",
        "min_splits = np.linspace(2, 11, 10).astype(int)\n",
        "\n",
        "# create training and testing accuracy matrices\n",
        "training_accuracy, testing_accuracy = np.zeros((len(max_depths), len(min_splits))), np.zeros((len(max_depths), len(min_splits)))\n",
        "\n",
        "for depth in max_depths:\n",
        "\n",
        "    for min_split in min_splits:\n",
        "\n",
        "        # fit the model\n",
        "        tree_model = tree.DecisionTreeClassifier(max_depth = depth, min_samples_split = min_split)\n",
        "        tree_model = tree_model.fit(X = X_train, y = y_train)\n",
        "\n",
        "        # predict on the train and test data\n",
        "        yp_train = tree_model.predict(X_train)\n",
        "        yp_test = tree_model.predict(X_test)\n",
        "\n",
        "        # append accuracies in correct matrix positions\n",
        "        training_accuracy[depth - 1][min_split - 2] = accuracy_score(y_train, yp_train)\n",
        "        testing_accuracy[depth - 1][min_split - 2] = accuracy_score(y_test, yp_test)\n",
        "\n",
        "# plot the training and testing accuracies against the maxiumum depth and minimum split parameter choices\n",
        "plt.plot(max_depths, training_accuracy[:,0], label = 'min_split = 2 (Train)')\n",
        "plt.plot(max_depths, testing_accuracy[:,0], linestyle = '--', label = 'min_split = 2 (Test)')\n",
        "plt.plot(max_depths, training_accuracy[:,1], label = 'min_split = 3 (Train)')\n",
        "plt.plot(max_depths, testing_accuracy[:,1], linestyle = '--', label = 'min_split = 3 (Test)')\n",
        "plt.plot(max_depths, training_accuracy[:,8], label = 'min_split = 10 (Train)')\n",
        "plt.plot(max_depths, testing_accuracy[:,8], linestyle = '--', label = 'min_split = 10 (Test)')\n",
        "plt.xlabel('Maximum Depth'), plt.ylabel('Accuracy')\n",
        "plt.title('Accuracy vs. Maximum Depth')\n",
        "plt.legend()\n",
        "plt.show()"
      ]
    },
    {
      "cell_type": "markdown",
      "metadata": {},
      "source": [
        "# Final Results\n",
        "\n",
        "Report, discuss, and visualize the results of the final optimally-fit model. For example, final training & validation errors, confusion matrices (values and plots), plots of the decision tree, etc. Comment on the quality of fit, why it might be good or bad, and what might be done to improve it.\n",
        "\n",
        "Will have to edit this dataset."
      ]
    },
    {
      "cell_type": "markdown",
      "metadata": {},
      "source": [
        "# Conclusions\n",
        "\n",
        "Create two or more paragraphs, more is fine, that discuss in a NON-TECHNICAL way what was discovered, why it was important, things that went wrong, possible future directions, and what it all means for a general audience."
      ]
    }
  ],
  "metadata": {
    "kernelspec": {
      "display_name": "Python 3 (ipykernel)",
      "language": "python",
      "name": "python3"
    },
    "language_info": {
      "codemirror_mode": {
        "name": "ipython",
        "version": 3
      },
      "file_extension": ".py",
      "mimetype": "text/x-python",
      "name": "python",
      "nbconvert_exporter": "python",
      "pygments_lexer": "ipython3",
      "version": "3.11.6"
    }
  },
  "nbformat": 4,
  "nbformat_minor": 4
}
