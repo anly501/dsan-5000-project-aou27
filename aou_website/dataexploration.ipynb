{
  "cells": [
    {
      "cell_type": "raw",
      "metadata": {},
      "source": [
        "---\n",
        "title: Data Exploration\n",
        "format:\n",
        "  html:\n",
        "    code-fold: true\n",
        "---"
      ],
      "id": "8573d357"
    },
    {
      "cell_type": "markdown",
      "metadata": {},
      "source": [
        "# Data Summary\n",
        "\n",
        "## Data Understanding\n",
        "\n",
        "Begin by thoroughly understanding the dataset and the problem you are trying to solve. Familiarize yourself with the characteristics of each feature, including their data types (numerical, categorical), potential relationships, and relevance to the project’s objectives.\n",
        "\n",
        "My collected data is meant to display major representative sources of American pop culture. This currently includes headlines from newpapers, top music songs internationally, and the most liked Netflix shows from the past year. As these sources are known to reflect what the general population is interested in, these datasets that seemingly represent America's favored pasttimes, also present current wave of cultural influence in America. Of these influences, I aim to see how certain streaming services are most influential on the colloquialisms of America.\n",
        "\n",
        "## Descriptive Statistics\n",
        "\n",
        " Calculate and report basic summary statistics such as mean, median, mode, standard deviation, and variance for numerical variables. For categorical variables, provide frequency distributions and bar charts to visualize data distribution.\n",
        "\n",
        "### Apple: \n"
      ],
      "id": "a684000b"
    },
    {
      "cell_type": "code",
      "metadata": {},
      "source": [
        "import requests\n",
        "import json\n",
        "import re\n",
        "import pandas as pd\n",
        "import numpy as np\n",
        "\n",
        "print(appledf.describe())"
      ],
      "id": "3753df30",
      "execution_count": null,
      "outputs": []
    },
    {
      "cell_type": "markdown",
      "metadata": {},
      "source": [
        "![Apple Summary Statistics](./images/applesummarypic.png)\n",
        "\n",
        "\n",
        "### Netflix: \n"
      ],
      "id": "c6b24791"
    },
    {
      "cell_type": "code",
      "metadata": {},
      "source": [
        "import requests\n",
        "import json\n",
        "import re\n",
        "import pandas as pd\n",
        "import numpy as np\n",
        "\n",
        "print(netflixdf.describe())"
      ],
      "id": "b487695f",
      "execution_count": null,
      "outputs": []
    },
    {
      "cell_type": "markdown",
      "metadata": {},
      "source": [
        "![Netflix Summary Statistics](./images/netflixsummarypic.png)\n",
        "\n",
        "### News API:\n"
      ],
      "id": "1f1bdb9d"
    },
    {
      "cell_type": "code",
      "metadata": {},
      "source": [
        "import requests\n",
        "import json\n",
        "import re\n",
        "import pandas as pd\n",
        "import numpy as np\n",
        "\n",
        "print(df_new.describe())\n",
        "print(df_newer.describe())\n",
        "print(df_newest.describe())"
      ],
      "id": "031c76b8",
      "execution_count": null,
      "outputs": []
    },
    {
      "cell_type": "markdown",
      "metadata": {},
      "source": [
        "## Data Visualizations\n",
        "\n",
        " Create visualizations such as histograms, box plots, scatter plots, and heatmaps to explore the data’s distribution, relationships between variables, and potential patterns or trends. Visualizations can make complex data more interpretable.\n",
        "\n",
        "## Correlation Analysis\n",
        "\n",
        "Examine the correlations between variables using correlation matrices, heat-maps, or scatter plots. Identify which variables are positively, negatively, or not correlated, which can guide further analysis.\n",
        "\n",
        "### Apple:\n"
      ],
      "id": "b8b66869"
    },
    {
      "cell_type": "code",
      "metadata": {},
      "source": [
        "import requests\n",
        "import json\n",
        "import re\n",
        "import pandas as pd\n",
        "import numpy as np\n",
        "\n",
        "print(appledf.corr())"
      ],
      "id": "cd82f7ac",
      "execution_count": null,
      "outputs": []
    },
    {
      "cell_type": "markdown",
      "metadata": {},
      "source": [
        "### Netflix:\n"
      ],
      "id": "dca06251"
    },
    {
      "cell_type": "code",
      "metadata": {},
      "source": [
        "import requests\n",
        "import json\n",
        "import re\n",
        "import pandas as pd\n",
        "import numpy as np\n",
        "\n",
        "print(netflixdf.corr())"
      ],
      "id": "6e839836",
      "execution_count": null,
      "outputs": []
    },
    {
      "cell_type": "markdown",
      "metadata": {},
      "source": [
        "### News API:\n"
      ],
      "id": "826c5b23"
    },
    {
      "cell_type": "code",
      "metadata": {},
      "source": [
        "import requests\n",
        "import json\n",
        "import re\n",
        "import pandas as pd\n",
        "import numpy as np\n",
        "\n",
        "print(df_new.corr())\n",
        "print(df_newer.corr())\n",
        "print(df_newest.corr())"
      ],
      "id": "2fb148a0",
      "execution_count": null,
      "outputs": []
    },
    {
      "cell_type": "markdown",
      "metadata": {},
      "source": [
        "## Hypothesis Generation\n",
        "\n",
        "### Refined Hypotheis and Questions:\n",
        "- Examples of American pop culture colloquialisms? OR Example of adopted pop culture colloquialisms?\n",
        "- What regions in the United States have more of an effect on shared national colloquialisms?\n",
        "- What regions globally have more of an effect on shared national colloquialisms (limited to seven continents)?\n",
        "- Is there a specific genre that is more influential on imported jargon?\n",
        "- Is there a specific region who is more impressionable to imported jargon?\n",
        "- Based on the data collected, would media or music streaming services be more influential on imported jargon?\n",
        "- Is national language relation to english influential on how adaptable the terms are?\n",
        "- Does positive or negative content have more of an effect on adapted jargon?\n",
        "- Practical applications for encouraging international colloquialisms dispersal?\n",
        "- How can these applications adapt to the growth of international colloquialisms in America?\n",
        "\n",
        "Hypothesis: I believe the rise of international content being consumed through streaming platforms and the rise in the incorporation of internationally- influenced colloquialisms in America will yield a positive correlation.\n",
        "  \n",
        "## Data Grouping and Segmentation\n",
        "\n",
        "If applicable, group or segment the data based on relevant criteria to uncover insights within specific subgroups.\n",
        "\n",
        "## Identifying Outliers\n",
        "\n",
        "Detect and investigate outliers that may indicate data quality issues or reveal interesting anomalies in the dataset.\n",
        "\n",
        "## Methods and Findings\n",
        "\n",
        "Summarize the key findings, insights, and patterns discovered during the EDA phase. Present these findings in a clear and organized manner, using textual narration, tables, charts, and narrative descriptions.\n",
        "\n",
        "## Tools and Software\n",
        "\n",
        "I will be primarily using Python for exploratory data analysis. This is due to the simplicity of the language making it easier for viewers to follow along with my data manipulation and the complexity of complementary sources, such as its libraries and frameworks. The libraries I am using include Pandas, Matplotlib, Seaborn, Numpy, scikit- learn, and BernoulliNB. While I am using Pandas to sort and manipulate my data, I will be using Matplotlib and Seaborn to visualize any relations I would like to highlight a few of the many possibly influential streaming platform factors on American colloquialism. I will be using Numpy to produce statistical information of my datasets that support my stance and visualizations. In addition to utilizing scikit- learn for producing general algorithms, I will implement BernoulliNB to generate my Naive Bayes algortihm.\n"
      ],
      "id": "81577bc2"
    }
  ],
  "metadata": {
    "kernelspec": {
      "display_name": "Python 3",
      "language": "python",
      "name": "python3"
    }
  },
  "nbformat": 4,
  "nbformat_minor": 5
}