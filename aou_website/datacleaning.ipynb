{
  "cells": [
    {
      "cell_type": "markdown",
      "metadata": {},
      "source": [
        "# Data Cleaning"
      ]
    },
    {
      "cell_type": "markdown",
      "metadata": {},
      "source": [
        "## Apple Music International Rankings"
      ]
    },
    {
      "cell_type": "code",
      "execution_count": 36,
      "metadata": {},
      "outputs": [
        {
          "name": "stdout",
          "output_type": "stream",
          "text": [
            "<class 'pandas.core.frame.DataFrame'>\n",
            "       Chart Position                     Artist and Title  Position Duration  \\\n",
            "0                   1        Doja Cat - Paint The Town Red                 68   \n",
            "1                   2                  Tate McRae - greedy                 27   \n",
            "2                   3                        Drake - IDGAF                  6   \n",
            "3                   4         Drake - First Person Shooter                  6   \n",
            "4                   5               Drake - Virginia Beach                  6   \n",
            "...               ...                                  ...                ...   \n",
            "11747               7          Taylor Swift - Cruel Summer                245   \n",
            "11770              30  Billie Eilish - What Was I Made For                 90   \n",
            "11773              33             Taylor Swift - Anti-Hero                356   \n",
            "11802              62                 Taylor Swift - Lover                412   \n",
            "11810              70                      SZA - Kill Bill                307   \n",
            "\n",
            "       Peak (x?)  Points Country  Country Rank  \n",
            "0         1   45   16920      US          29.0  \n",
            "1         2    9   14619      US          44.0  \n",
            "2         3    1   13364      US           1.0  \n",
            "3         3    2   12624      US           2.0  \n",
            "4         2    2   12359      US           3.0  \n",
            "...     ...  ...     ...     ...           ...  \n",
            "11747     1   13   10731      VN          28.0  \n",
            "11770     2   10    5425      VN         166.0  \n",
            "11773     1   50    5108      VN         146.0  \n",
            "11802     3   13    2739      VN         116.0  \n",
            "11810     1    3    2487      VN         104.0  \n",
            "\n",
            "[836 rows x 8 columns]\n",
            "(836, 8)\n"
          ]
        }
      ],
      "source": [
        "import requests\n",
        "import json\n",
        "import re\n",
        "#import pycountry\n",
        "import pandas as pd\n",
        "import numpy as np\n",
        "from sklearn.feature_extraction.text import CountVectorizer\n",
        "\n",
        "appledf = pd.read_csv(\"../websitedata/appletopsongsinternational2023.csv\")\n",
        "#print(appledf.shape)\n",
        "print(type(appledf))\n",
        "\n",
        "appledf.dropna\n",
        "\n",
        "appledf = pd.melt(appledf, id_vars=[\"Pos\", \"P+\", \"Artist and Title\", \"Days\", \"Pk\", \"(x?)\", \"Pts\", \"Pts+\", \"TPts\"], \n",
        "                   var_name=\"country\", value_name=\"country_rank\").dropna()\n",
        "\n",
        "#print(appledf.isnull().sum())\n",
        "#print(appledf.isna().sum())\n",
        "\n",
        "appledf = appledf.drop(columns=[\"P+\", \"Pts+\", \"TPts\"])\n",
        "appledf = appledf.rename(columns={\"Pos\": \"Chart Position\",\"Days\": \"Position Duration\", \"Pk\": \"Peak\", \n",
        "                                  \"Pts\": \"Points\", \"country\": \"Country\", \"country_rank\": \"Country Rank\"})\n",
        "#appledf = appledf[\"Country\"].apply(lambda x: pycountry.countries.get(alpha_3=x).name \n",
        "                                               #if len(x) == 3 else pycountry.countries.get(alpha_2=x).name)\n",
        "\n",
        "#print(appledf[\"(x?)\"].value_counts())\n",
        "\n",
        "appledf[\"(x?)\"] = appledf[\"(x?)\"].str.replace(r'[()]|x', \"\", regex = True)\n",
        "#appledf = appledf[appledf[\"Country\"].str.contains(\"^US\", na=False)]\n",
        "\n",
        "\n",
        "print(appledf)\n",
        "appledf.to_csv(\"../websitedata/apple_py.csv\")\n",
        "print(appledf.shape)\n"
      ]
    },
    {
      "cell_type": "markdown",
      "metadata": {},
      "source": [
        "## R Equivalent"
      ]
    },
    {
      "cell_type": "markdown",
      "metadata": {},
      "source": [
        "![R Equivalent to Apple Data Gathering and Cleaning](./images/applepic.png)\n"
      ]
    },
    {
      "cell_type": "markdown",
      "metadata": {},
      "source": [
        "### Exploring Data Tab"
      ]
    },
    {
      "cell_type": "code",
      "execution_count": 38,
      "metadata": {},
      "outputs": [
        {
          "name": "stdout",
          "output_type": "stream",
          "text": [
            "       Chart Position  Position Duration        Peak        Points  \\\n",
            "count      836.000000         836.000000  836.000000    836.000000   \n",
            "mean        42.502392         308.492823    1.671053   7506.009569   \n",
            "std         49.812835         427.604273    0.724705   5080.042094   \n",
            "min          1.000000           6.000000    1.000000   1056.000000   \n",
            "25%          5.000000          68.000000    1.000000   2739.000000   \n",
            "50%         30.000000         132.000000    2.000000   5425.000000   \n",
            "75%         62.000000         393.000000    2.000000  12359.000000   \n",
            "max        198.000000        1982.000000    3.000000  16920.000000   \n",
            "\n",
            "       Country Rank  \n",
            "count    836.000000  \n",
            "mean      61.480861  \n",
            "std       52.836577  \n",
            "min        1.000000  \n",
            "25%       16.000000  \n",
            "50%       48.500000  \n",
            "75%       93.000000  \n",
            "max      200.000000  \n",
            "   Chart Position  Position Duration  Peak (x?)  Points  Country Rank\n",
            "0               1                 68     1   45   16920          29.0\n",
            "1               2                 27     2    9   14619          44.0\n",
            "2               3                  6     3    1   13364           1.0\n",
            "3               4                  6     3    2   12624           2.0\n",
            "4               5                  6     2    2   12359           3.0\n"
          ]
        }
      ],
      "source": [
        "print(appledf.describe())\n",
        "\n",
        "newAppledf = appledf.drop([\"Artist and Title\", \"Country\"], axis=1)\n",
        "newAppledf = newAppledf.reset_index(drop=True)\n",
        "\n",
        "print(newAppledf.head())"
      ]
    },
    {
      "cell_type": "code",
      "execution_count": 43,
      "metadata": {},
      "outputs": [
        {
          "name": "stdout",
          "output_type": "stream",
          "text": [
            "Chart Position       int64\n",
            "Position Duration    int64\n",
            "Peak                 int64\n",
            "(x?)                 int32\n",
            "Points               int64\n",
            "Country Rank         int32\n",
            "dtype: object\n",
            "       Chart Position  Position Duration        Peak        (x?)  \\\n",
            "count      836.000000         836.000000  836.000000  836.000000   \n",
            "mean        42.502392         308.492823    1.671053   32.011962   \n",
            "std         49.812835         427.604273    0.724705   47.504048   \n",
            "min          1.000000           6.000000    1.000000    1.000000   \n",
            "25%          5.000000          68.000000    1.000000    3.000000   \n",
            "50%         30.000000         132.000000    2.000000   14.000000   \n",
            "75%         62.000000         393.000000    2.000000   32.000000   \n",
            "max        198.000000        1982.000000    3.000000  177.000000   \n",
            "\n",
            "             Points  Country Rank  \n",
            "count    836.000000    836.000000  \n",
            "mean    7506.009569     61.480861  \n",
            "std     5080.042094     52.836577  \n",
            "min     1056.000000      1.000000  \n",
            "25%     2739.000000     16.000000  \n",
            "50%     5425.000000     48.500000  \n",
            "75%    12359.000000     93.000000  \n",
            "max    16920.000000    200.000000  \n",
            "                   Chart Position  Position Duration      Peak      (x?)  \\\n",
            "Chart Position           1.000000           0.537127 -0.006928 -0.043663   \n",
            "Position Duration        0.537127           1.000000 -0.234745  0.250226   \n",
            "Peak                    -0.006928          -0.234745  1.000000 -0.438067   \n",
            "(x?)                    -0.043663           0.250226 -0.438067  1.000000   \n",
            "Points                  -0.788348          -0.543229  0.094603 -0.179048   \n",
            "Country Rank             0.529540           0.329221 -0.048784  0.019253   \n",
            "\n",
            "                     Points  Country Rank  \n",
            "Chart Position    -0.788348      0.529540  \n",
            "Position Duration -0.543229      0.329221  \n",
            "Peak               0.094603     -0.048784  \n",
            "(x?)              -0.179048      0.019253  \n",
            "Points             1.000000     -0.518561  \n",
            "Country Rank      -0.518561      1.000000  \n"
          ]
        }
      ],
      "source": [
        "newAppledf[\"(x?)\"] = newAppledf[\"(x?)\"].astype(int)\n",
        "newAppledf[\"Country Rank\"] = newAppledf[\"Country Rank\"].astype(int)\n",
        "print(newAppledf.dtypes)\n",
        "newAppledf.to_csv(\"../websitedata/newApple_py.csv\")\n",
        "\n",
        "# Summary\n",
        "print(newAppledf.describe())\n",
        "\n",
        "# Correlation\n",
        "print(newAppledf.corr())\n",
        "\n",
        "# Outliers"
      ]
    },
    {
      "cell_type": "markdown",
      "metadata": {},
      "source": [
        "## Netflix Best Shows of 2022"
      ]
    },
    {
      "cell_type": "code",
      "execution_count": null,
      "metadata": {},
      "outputs": [],
      "source": [
        "import requests\n",
        "import json\n",
        "import re\n",
        "#import pycountry\n",
        "import pandas as pd\n",
        "import numpy as np\n",
        "from sklearn.feature_extraction.text import CountVectorizer\n",
        "\n",
        "netflixdf = pd.read_csv(\"../websitedata/netflixWorld2022.csv\")\n",
        "#print(netflixdf.shape)\n",
        "#print(type(netflixdf))\n",
        "\n",
        "netflixdf = netflixdf.rename(columns={\"Top TV shows on Netflix worldwide 2022\": \"Title\", \"Unnamed: 1\": \"Points\"})\n",
        "\n",
        "\n",
        "netflixdf.drop([0,1], inplace=True)\n",
        "#print(netflixdf.isnull().sum())\n",
        "#print(netflixdf.isna().sum())\n",
        "\n",
        "\n",
        "#netflixdf[\"Votes (Amount)\"] = netflixdf[\"Votes (Amount)\"].apply(lambda x: str(x) if x < 50000 else x)\n",
        "#netflixdf[\"Votes (Amount)\"] = netflixdf[\"Votes (Amount)\"].astype(str)\n",
        "\n",
        "#voters = netflixdf[\"Votes (Amount)\"] < \"50000\"\n",
        "#netflixdf.loc[voters, \"Votes (Amount)\"] = \"low five\"\n",
        "#netflixdf[\"Votes (Amount)\"] = netflixdf[\"Votes (Amount)\"].astype(categorical)\n",
        "\n",
        "#voters1 = netflixdf[\"Votes (Amount)\"] >= \"50000\") & (netflixdf[\"Votes (Amount)\"] < \"100000\")\n",
        "#netflixdf.loc[voters1, \"Votes (Amount)\"] = \"high five\"\n",
        "\n",
        "\n",
        "print(netflixdf)\n",
        "#netflixdf.to_csv(\"C:/Users/Owner/Documents/DSAN 5000/website-template/HW1_5000/dsan-5000-project-aou27/websitedata\")\n",
        "\n",
        "#print(netflixdf[\"Score\"].min())\n",
        "#print(netflixdf[\"Score\"].max())\n",
        "\n",
        "#print(netflixdf[\"Votes (Amount)\"].min())\n",
        "#print(netflixdf[\"Votes (Amount)\"].max())\n"
      ]
    },
    {
      "cell_type": "markdown",
      "metadata": {},
      "source": [
        "## R Equivalent"
      ]
    },
    {
      "cell_type": "markdown",
      "metadata": {},
      "source": [
        "![R Equivalent to Netflix Data Gathering and Cleaning](./images/netflixpic.png)\n"
      ]
    },
    {
      "cell_type": "markdown",
      "metadata": {},
      "source": [
        "# Wiki Data"
      ]
    },
    {
      "cell_type": "code",
      "execution_count": 41,
      "metadata": {},
      "outputs": [],
      "source": [
        "import wikipedia"
      ]
    },
    {
      "cell_type": "code",
      "execution_count": 42,
      "metadata": {},
      "outputs": [
        {
          "data": {
            "text/plain": [
              "['Stranger Things',\n",
              " 'List of Stranger Things episodes',\n",
              " 'Vecna (Stranger Things)',\n",
              " 'Stranger Things (season 4)',\n",
              " 'Eleven (Stranger Things)',\n",
              " 'List of Stranger Things characters',\n",
              " 'Stranger Things (season 3)',\n",
              " 'Stranger Things (season 1)',\n",
              " 'Stranger Things (season 2)',\n",
              " 'Stranger Things: The First Shadow']"
            ]
          },
          "execution_count": 42,
          "metadata": {},
          "output_type": "execute_result"
        }
      ],
      "source": [
        "wikipedia.search(\"Stranger Things\", results=10, suggestion=False)"
      ]
    },
    {
      "cell_type": "code",
      "execution_count": null,
      "metadata": {},
      "outputs": [],
      "source": [
        "wikipedia.summary(\"Stranger Things (season 4)\")\n",
        "# this gets information from the page https://en.wikipedia.org/wiki/Strange_Things_(season_4)"
      ]
    }
  ],
  "metadata": {
    "kernelspec": {
      "display_name": "Python 3 (ipykernel)",
      "language": "python",
      "name": "python3"
    },
    "language_info": {
      "codemirror_mode": {
        "name": "ipython",
        "version": 3
      },
      "file_extension": ".py",
      "mimetype": "text/x-python",
      "name": "python",
      "nbconvert_exporter": "python",
      "pygments_lexer": "ipython3",
      "version": "3.11.6"
    }
  },
  "nbformat": 4,
  "nbformat_minor": 4
}
